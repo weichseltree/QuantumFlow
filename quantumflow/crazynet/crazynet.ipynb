{
 "cells": [
  {
   "cell_type": "code",
   "execution_count": null,
   "id": "faa3ac4c-a6cc-4da5-90db-35f3bfe5120b",
   "metadata": {},
   "outputs": [],
   "source": [
    "import os\n",
    "import sys\n",
    "import logging\n",
    "os.environ['TF_CPP_MIN_LOG_LEVEL'] = '3'  # FATAL\n",
    "logging.getLogger('tensorflow').setLevel(logging.DEBUG)\n",
    "\n",
    "try:\n",
    "    from google.colab import drive\n",
    "    drive.mount('/content/drive')\n",
    "    !pip install -q ruamel.yaml\n",
    "    !pip install -q tensorboard-plugin-profile\n",
    "    project_path = '/content/drive/MyDrive/Colab Projects/QuantumFlow'\n",
    "except:\n",
    "    project_path = os.path.expanduser('~/QuantumFlow')"
   ]
  },
  {
   "cell_type": "code",
   "execution_count": null,
   "id": "025b31ea-0841-49d8-9998-91c8bfe8264e",
   "metadata": {},
   "outputs": [],
   "source": [
    "os.chdir(project_path)\n",
    "sys.path.append(project_path)\n",
    "\n",
    "import tensorflow as tf\n",
    "import numpy as np\n",
    "\n",
    "import matplotlib\n",
    "import matplotlib.pyplot as plt\n",
    "%matplotlib inline\n",
    "\n",
    "import quantumflow\n",
    "import quantumflow.crazynet"
   ]
  },
  {
   "cell_type": "code",
   "execution_count": null,
   "id": "104df93f-4867-4662-bc3f-700f5722bb33",
   "metadata": {},
   "outputs": [],
   "source": [
    "n_dim = 2\n",
    "batch_size = 1\n",
    "n_inputs = 10\n",
    "\n",
    "x = np.zeros(shape=(batch_size, n_dim), dtype=np.float32)\n",
    "x_inputs = np.random.randn(batch_size, n_inputs, n_dim)\n",
    "inputs = np.random.randn(batch_size, n_inputs, 1)**2"
   ]
  },
  {
   "cell_type": "markdown",
   "id": "64b27c45-8d7c-43a2-8255-ddaa676fbe21",
   "metadata": {},
   "source": [
    "### metric_scaled_dot_product_attention"
   ]
  },
  {
   "cell_type": "code",
   "execution_count": null,
   "id": "2a350877-ce93-484e-a36b-023e1140796f",
   "metadata": {},
   "outputs": [],
   "source": [
    "size_q = 2\n",
    "size_k = n_inputs\n",
    "depth = 5\n",
    "depth_v = 7\n",
    "\n",
    "alpha = 0.0*np.ones(shape=(batch_size, size_q), dtype=np.float32)/10 # (..., size_q)\n",
    "beta = 1.0*np.ones(shape=(batch_size, size_q), dtype=np.float32) # (..., size_q)\n",
    "xdiff = np.float32(quantumflow.crazynet.get_xdiff(x_inputs[:, :size_q], x_inputs).numpy())\n",
    "print(alpha.shape, beta.shape, xdiff.shape)"
   ]
  },
  {
   "cell_type": "code",
   "execution_count": null,
   "id": "572000fe-4633-4f90-b44a-bd466bd5c429",
   "metadata": {},
   "outputs": [],
   "source": [
    "q = np.zeros(shape=(batch_size, size_q, depth), dtype=np.float32) # (..., size_q, depth)\n",
    "k = np.zeros(shape=(batch_size, size_k, depth), dtype=np.float32) # (..., size_k, depth)\n",
    "v = np.zeros(shape=(batch_size, size_k, depth_v), dtype=np.float32) # (..., size_v, depth_v)\n",
    "\n",
    "q[0, 0, 1] = 0\n",
    "k[0, 0, 1] = 0\n",
    "v[0, 0, :] = 1"
   ]
  },
  {
   "cell_type": "code",
   "execution_count": null,
   "id": "16e8999c-478b-4ba8-a36d-44e443b24b15",
   "metadata": {},
   "outputs": [],
   "source": [
    "output, attention_weights = quantumflow.crazynet.metric_scaled_dot_product_attention(q, k, v, alpha, beta, xdiff)"
   ]
  },
  {
   "cell_type": "code",
   "execution_count": null,
   "id": "19e81fa4-8b61-49f4-997b-3efb60dcdaf7",
   "metadata": {},
   "outputs": [],
   "source": [
    "print('attention_weights\\n', attention_weights.numpy(), attention_weights.shape)\n",
    "print('output\\n', output.numpy(), output.shape)"
   ]
  },
  {
   "cell_type": "markdown",
   "id": "aea52f91-1420-4425-b13e-06df8e217010",
   "metadata": {},
   "source": [
    "### MetricMultiHeadAttention"
   ]
  },
  {
   "cell_type": "code",
   "execution_count": null,
   "id": "a5f684b0-c85e-42fb-b8de-8fa8a51f5872",
   "metadata": {},
   "outputs": [],
   "source": [
    "d_model = 128\n",
    "num_heads = 8"
   ]
  },
  {
   "cell_type": "code",
   "execution_count": null,
   "id": "9e60d4e6-848a-45c1-b9a4-4b0f5d797360",
   "metadata": {},
   "outputs": [],
   "source": [
    "layer = quantumflow.crazynet.MetricMultiHeadAttention(d_model, num_heads)"
   ]
  },
  {
   "cell_type": "code",
   "execution_count": null,
   "id": "464f3c60-70a8-4086-bb5b-ac113f008f2d",
   "metadata": {},
   "outputs": [],
   "source": [
    "output, attention_weights = layer(v, k, q, xdiff)\n",
    "print(output.shape)\n",
    "print(attention_weights.shape)"
   ]
  },
  {
   "cell_type": "markdown",
   "id": "7b747876-bf49-4089-94c7-1cf28fb380e0",
   "metadata": {},
   "source": [
    "### CrazyNet"
   ]
  },
  {
   "cell_type": "code",
   "execution_count": null,
   "id": "39579250-f7f8-4af5-971a-3a044f15e4e4",
   "metadata": {},
   "outputs": [],
   "source": [
    "num_outputs = 2\n",
    "num_layers = 1\n",
    "dropout_rate = 0.0\n",
    "dff = 512\n",
    "dff_final = [512, 64]\n",
    "scale = 5.0\n",
    "\n",
    "print(x, x.shape) # (batch_size, n_dim)\n",
    "print(x_inputs, x_inputs.shape) # (batch_size, n_inputs, n_dim)\n",
    "print(inputs, inputs.shape) # (batch_size, n_inputs)"
   ]
  },
  {
   "cell_type": "code",
   "execution_count": null,
   "id": "404b6387-8f91-4ee1-8d25-c779694a41ba",
   "metadata": {},
   "outputs": [],
   "source": [
    "crazynet = quantumflow.crazynet.CrazyNet(num_outputs, num_layers, d_model, num_heads, dff, dff_final, dropout_rate, scale)"
   ]
  },
  {
   "cell_type": "code",
   "execution_count": null,
   "id": "8f53b571-d045-474b-8d2e-951671fff15b",
   "metadata": {},
   "outputs": [],
   "source": [
    "crazynet(x, x_inputs, inputs)"
   ]
  },
  {
   "cell_type": "markdown",
   "id": "db74cfd1-939a-40d4-a97c-49cfe8d1d03f",
   "metadata": {},
   "source": [
    "## 1d test"
   ]
  },
  {
   "cell_type": "code",
   "execution_count": null,
   "id": "848b41b6-f7e1-45be-8226-9c4926f1e133",
   "metadata": {},
   "outputs": [],
   "source": [
    "x_inputs = np.linspace(0, 1, 101)[np.newaxis, :, np.newaxis]\n",
    "xdiff = np.float32(quantumflow.crazynet.get_xdiff(x_inputs, x_inputs).numpy())\n",
    "\n",
    "d_model = 16\n",
    "num_heads = 1\n",
    "\n",
    "net = np.abs(np.random.randn(batch_size, 101, d_model)/3)"
   ]
  },
  {
   "cell_type": "code",
   "execution_count": null,
   "id": "6634e874-2215-41eb-a616-743a1e5cfa57",
   "metadata": {},
   "outputs": [],
   "source": [
    "layer = quantumflow.crazynet.MetricMultiHeadAttention(d_model, num_heads)"
   ]
  },
  {
   "cell_type": "code",
   "execution_count": null,
   "id": "13ec3531-cb90-4ecc-a7a8-498dbb557c30",
   "metadata": {},
   "outputs": [],
   "source": [
    "output, attention_weights = layer(net, net, net, xdiff)\n",
    "print(output.shape)\n",
    "print(attention_weights.shape)"
   ]
  },
  {
   "cell_type": "code",
   "execution_count": null,
   "id": "ae98f94d-e6bd-4122-b5b8-fe548f36faf6",
   "metadata": {},
   "outputs": [],
   "source": [
    "plt.figure(figsize=(5, 5))\n",
    "plt.imshow(attention_weights[0, 0])\n",
    "plt.show()"
   ]
  },
  {
   "cell_type": "code",
   "execution_count": null,
   "id": "9a265ab9-3fa9-4b54-9fb0-53f0c03b4b82",
   "metadata": {},
   "outputs": [],
   "source": [
    "plt.figure(figsize=(20, 3))\n",
    "plt.plot(x_inputs[0], output[0, :])\n",
    "plt.show()"
   ]
  },
  {
   "cell_type": "code",
   "execution_count": null,
   "id": "a1707080-aef8-417a-a552-4f392498eb81",
   "metadata": {},
   "outputs": [],
   "source": [
    "plt.figure(figsize=(20, 3))\n",
    "plt.plot(x_inputs[0], attention_weights[0, :, :, 1].numpy().transpose())\n",
    "plt.show()"
   ]
  },
  {
   "cell_type": "code",
   "execution_count": null,
   "id": "af4ed641-92eb-4bee-b517-6dc9d9d5f223",
   "metadata": {},
   "outputs": [],
   "source": []
  },
  {
   "cell_type": "markdown",
   "id": "11275678-ead9-439a-ac2a-3db86880ee5a",
   "metadata": {},
   "source": [
    "# Test Training"
   ]
  },
  {
   "cell_type": "code",
   "execution_count": null,
   "id": "c8563c83-a717-4068-bca0-5f729aff6ad9",
   "metadata": {},
   "outputs": [],
   "source": [
    "def function_x(x, y):\n",
    "    return x/50.0\n",
    "\n",
    "def function_y(x, y):\n",
    "    return y/50.0\n",
    "\n",
    "def function_1(x, y):\n",
    "    return 5*np.exp(-(x - 40)**2/200 - (y - 50)**2/50) + 3*np.exp(-(x - 62)**2/193 - (y - 62)**2/342) - 4*np.exp(-(x - 50)**2/393 - (y - 50)**2/342)\n",
    "\n",
    "def function_c(x, y):\n",
    "    return np.exp(-(x - 50)**2/200 - (y - 50)**2/200)\n",
    "\n",
    "def function_d(x, y):\n",
    "    return np.exp(-(x - 50)**2/100 - (y - 40)**2/100) + np.exp(-(x - 50)**2/100 - (y - 60)**2/100)"
   ]
  },
  {
   "cell_type": "code",
   "execution_count": null,
   "id": "4bd3f801-73d4-4dce-a449-a7f9f21bbb01",
   "metadata": {},
   "outputs": [],
   "source": [
    "num_outputs = 1\n",
    "num_layers = 8\n",
    "d_model = 128\n",
    "dff = 512\n",
    "dff_final = [512, 64]\n",
    "num_heads = 8\n",
    "dropout_rate = 0.1\n",
    "scale = 50.0\n",
    "\n",
    "batch_size = 256\n",
    "steps = 100000\n",
    "\n",
    "input_fn = function_d\n",
    "target_fn = function_c\n",
    "\n",
    "def gen_x(target_fn, batch_size):\n",
    "    x = np.random.uniform(80, size=(batch_size, 2)).astype(np.float32)+10.0\n",
    "    targets = target_fn(x[:, 0], x[:, 1])[:, np.newaxis].astype(np.float32)\n",
    "    return x, targets\n",
    "\n",
    "def gen_inputs(input_fn, batch_size):\n",
    "    #x_inputs = np.random.randn(batch_size, 100, 2).astype(np.float32)*15.0+50.0    \n",
    "    #inputs = input_fn(x_inputs[:, :, 0], x_inputs[:, :, 1])[:, :, np.newaxis]\n",
    "    x_inputs = np.stack([np.repeat(np.arange(20, 81, 10), 7), np.tile(np.arange(20, 81, 10), 7)], axis=-1) #np.stack([np.repeat(np.arange(25, 76, 5), 11), np.tile(np.arange(25, 76, 5), 11)], axis=-1)\n",
    "    inputs = input_fn(x_inputs[:, 0], x_inputs[:, 1]).astype(np.float32)\n",
    "    x_inputs = np.float32(np.repeat(x_inputs[np.newaxis, :, :], batch_size, axis=0))\n",
    "    inputs = np.float32(np.repeat(inputs[np.newaxis, :, np.newaxis], batch_size, axis=0))\n",
    "    return x_inputs, inputs\n",
    "\n",
    "\n",
    "@tf.function\n",
    "def validation_call(x_fine, x_inputs_fine, inputs_fine):\n",
    "    return model(x_fine, x_inputs_fine, inputs_fine, training=False)\n",
    "\n",
    "def validation_fn():\n",
    "    zz_output = []\n",
    "    err = []\n",
    "    \n",
    "    for y in range(100):\n",
    "        x_fine = np.stack([np.arange(100), np.tile(y, 100)], axis=-1).astype(np.float32)\n",
    "        targets_fine = target_fn(x_fine[:, 0], x_fine[:, 1])[:, np.newaxis].astype(np.float32)\n",
    "\n",
    "        x_inputs_fine, inputs_fine = gen_inputs(input_fn, x_fine.shape[0])\n",
    "\n",
    "        outputs_fine = validation_call(x_fine, x_inputs_fine, inputs_fine)\n",
    "        \n",
    "        err_fine = targets_fine - outputs_fine\n",
    "        zz_output.append(outputs_fine)\n",
    "        err.append(err_fine)\n",
    "\n",
    "    zz_output = np.stack(zz_output, axis=0)\n",
    "    err = np.stack(err, axis=0)\n",
    "    \n",
    "    return zz_output, err\n",
    "\n",
    "model = quantumflow.crazynet.CrazyNet(num_outputs, num_layers, d_model, num_heads, dff, dff_final, dropout_rate, scale)\n",
    "\n",
    "def loss_fn(outputs, targets):\n",
    "    return tf.reduce_mean(tf.square(outputs - targets))\n",
    "\n",
    "optimizer = tf.keras.optimizers.Adam(learning_rate=1e-4)\n",
    "\n",
    "losses = []\n",
    "validation = []"
   ]
  },
  {
   "cell_type": "code",
   "execution_count": null,
   "id": "444d57fe-64c4-489c-aad0-3717366e6e4f",
   "metadata": {},
   "outputs": [],
   "source": [
    "xx, yy = np.meshgrid(np.linspace(0, 100, 100), np.linspace(0, 100, 100))\n",
    "zz = input_fn(xx, yy)\n",
    "x_inputs, inputs = gen_inputs(input_fn, 1)\n",
    "\n",
    "fig = plt.figure(figsize=(10, 10))\n",
    "ax = plt.axes(projection='3d')\n",
    "surf = ax.plot_surface(xx, yy, zz, rstride=1, cstride=1, cmap=matplotlib.cm.coolwarm, linewidth=0, antialiased=True)\n",
    "ax.scatter(x_inputs[0, :, 0], x_inputs[0, :, 1], inputs[0, :], c='k')\n",
    "plt.show()\n",
    "\n",
    "zz = target_fn(xx, yy)\n",
    "x, targets = gen_x(target_fn, batch_size)\n",
    "\n",
    "fig = plt.figure(figsize=(10, 10))\n",
    "ax = plt.axes(projection='3d')\n",
    "surf = ax.plot_surface(xx, yy, zz, rstride=1, cstride=1, cmap=matplotlib.cm.coolwarm, linewidth=0, antialiased=True)\n",
    "ax.scatter(x[:, 0], x[:, 1], targets, c='k')\n",
    "plt.show()"
   ]
  },
  {
   "cell_type": "code",
   "execution_count": null,
   "id": "3aa145d9-56c3-4105-96ab-bfcd68a528b7",
   "metadata": {},
   "outputs": [],
   "source": [
    "@tf.function\n",
    "def step_fn(x, targets):\n",
    "    with tf.GradientTape() as tape:\n",
    "\n",
    "        outputs = model(x, x_inputs, inputs, training=True) \n",
    "\n",
    "        loss_value = loss_fn(outputs, targets)\n",
    "\n",
    "    grads = tape.gradient(loss_value, model.trainable_weights)\n",
    "\n",
    "    optimizer.apply_gradients(zip(grads, model.trainable_weights))\n",
    "    return loss_value\n",
    "\n",
    "\n",
    "print(f\"{'step':>10} {'loss':>20} {'mean(abs(err))':>20} {'max(abs(err))':>20}\")\n",
    "\n",
    "for step in range(steps):\n",
    "    x, targets = gen_x(target_fn, batch_size)\n",
    "    x_inputs, inputs = gen_inputs(input_fn, batch_size)\n",
    "    \n",
    "    loss_value = step_fn(x, targets)\n",
    "    \n",
    "    losses.append(loss_value.numpy())\n",
    "    if step % 100 == 0:\n",
    "        zz_output, err = validation_fn()\n",
    "        print(f\"{step:10d} {loss_value:20f} {np.mean(np.abs(err)):20f} {np.max(np.abs(err)):20f}\")\n",
    "        validation.append(zz_output)\n",
    "    \n",
    "    if len(losses) > 25000:\n",
    "        optimizer.learning_rate.assign(optimizer.learning_rate*0.9999)\n",
    "        "
   ]
  },
  {
   "cell_type": "code",
   "execution_count": null,
   "id": "f0aef7b6-538a-4923-ae49-5735a6bcdd4c",
   "metadata": {},
   "outputs": [],
   "source": [
    "plt.figure(figsize=(20, 3))\n",
    "plt.plot(losses)\n",
    "plt.yscale('log')\n",
    "plt.show()"
   ]
  },
  {
   "cell_type": "code",
   "execution_count": null,
   "id": "5c220e96-17ee-458a-94b3-2eb64d2ae92d",
   "metadata": {},
   "outputs": [],
   "source": [
    "for z in range(zz_output.shape[-1]):\n",
    "    plt.figure(figsize=(20, 3))\n",
    "    plt.plot([np.max(np.abs(zz-zz_output[:, :, z])) for zz_output in validation])\n",
    "    plt.show()"
   ]
  },
  {
   "cell_type": "code",
   "execution_count": null,
   "id": "4f78f0c4-391c-444e-a46f-e07cf0f6dd59",
   "metadata": {},
   "outputs": [],
   "source": [
    "for z in range(zz_output.shape[-1]):\n",
    "    fig = plt.figure(figsize=(10, 10))\n",
    "    ax = plt.axes(projection='3d')\n",
    "    surf = ax.plot_surface(xx, yy, zz_output[:, :, z], rstride=1, cstride=1, cmap=matplotlib.cm.coolwarm, linewidth=0, antialiased=False)\n",
    "    plt.show()"
   ]
  },
  {
   "cell_type": "code",
   "execution_count": null,
   "id": "2a82b3dc-87a1-4dbc-8daf-b4e1ba4e0aa1",
   "metadata": {},
   "outputs": [],
   "source": [
    "for z in range(zz_output.shape[-1]):\n",
    "    fig = plt.figure(figsize=(10, 10))\n",
    "    ax = plt.axes(projection='3d')\n",
    "    surf = ax.plot_surface(xx, yy, zz_output[:, :, z]-zz, rstride=1, cstride=1, cmap=matplotlib.cm.coolwarm, linewidth=0, antialiased=False)\n",
    "    ax.set_zlim(np.min(zz),np.max(zz))\n",
    "    plt.show()"
   ]
  },
  {
   "cell_type": "markdown",
   "id": "cde05083-be85-43ab-92a7-b40edc26cc9d",
   "metadata": {},
   "source": [
    "# Multi-Batch dim"
   ]
  },
  {
   "cell_type": "code",
   "execution_count": null,
   "id": "0c824613-8143-4589-bfd0-1d49b3cbb954",
   "metadata": {},
   "outputs": [],
   "source": [
    "n_dim = 2\n",
    "batch_size = 1\n",
    "inner_batch_size = 4\n",
    "n_inputs = 10\n",
    "\n",
    "x = np.zeros(shape=(batch_size, inner_batch_size, n_dim), dtype=np.float32)\n",
    "x_inputs = np.random.randn(batch_size, inner_batch_size, n_inputs, n_dim)\n",
    "inputs = np.random.randn(batch_size, inner_batch_size, n_inputs, 1)**2\n",
    "\n",
    "print(x.shape, x_inputs.shape, inputs.shape)\n",
    "\n",
    "size_q = 2\n",
    "size_k = n_inputs\n",
    "depth = 5\n",
    "depth_v = 7\n",
    "\n",
    "alpha = 0.0*np.ones(shape=(batch_size, inner_batch_size, size_q), dtype=np.float32)/10 # (..., size_q)\n",
    "beta = 1.0*np.ones(shape=(batch_size, inner_batch_size, size_q), dtype=np.float32) # (..., size_q)\n",
    "xdiff = np.float32(quantumflow.crazynet.get_xdiff(x_inputs[:, :, :size_q], x_inputs).numpy())\n",
    "print(alpha.shape, beta.shape, xdiff.shape)\n",
    "\n",
    "q = np.zeros(shape=(batch_size, inner_batch_size, size_q, depth), dtype=np.float32) # (..., size_q, depth)\n",
    "k = np.zeros(shape=(batch_size, inner_batch_size, size_k, depth), dtype=np.float32) # (..., size_k, depth)\n",
    "v = np.zeros(shape=(batch_size, inner_batch_size, size_k, depth_v), dtype=np.float32) # (..., size_v, depth_v)\n",
    "\n",
    "q[0, :, 0, 1] = 0\n",
    "k[0, :, 0, 1] = 0\n",
    "v[0, :, 0, :] = 1\n",
    "\n",
    "print(q.shape, k.shape, v.shape)"
   ]
  },
  {
   "cell_type": "code",
   "execution_count": null,
   "id": "e19a5b5f-0d63-427e-b50a-fe12c94bdf7c",
   "metadata": {},
   "outputs": [],
   "source": [
    "output, attention_weights = quantumflow.crazynet.metric_scaled_dot_product_attention(q, k, v, alpha, beta, xdiff)"
   ]
  },
  {
   "cell_type": "code",
   "execution_count": null,
   "id": "25c391b5-6f3f-40bf-94e3-d3e91ef36187",
   "metadata": {},
   "outputs": [],
   "source": [
    "d_model = 128\n",
    "num_heads = 8\n",
    "\n",
    "net = np.zeros(shape=(batch_size, inner_batch_size, n_inputs, d_model), dtype=np.float32) # (..., size_v, depth_v)\n",
    "xdiff = np.float32(quantumflow.crazynet.get_xdiff(x_inputs, x_inputs).numpy())\n",
    "\n",
    "layer = quantumflow.crazynet.MetricMultiHeadAttention(d_model, num_heads)"
   ]
  },
  {
   "cell_type": "code",
   "execution_count": null,
   "id": "50a57c2c-ad56-471d-bdc8-fba985ca6d68",
   "metadata": {},
   "outputs": [],
   "source": [
    "output, attention_weights = layer(net, net, net, xdiff)\n",
    "print(output.shape)\n",
    "print(attention_weights.shape)"
   ]
  },
  {
   "cell_type": "code",
   "execution_count": null,
   "id": "ea5a3681-98eb-47b7-a148-5d4b34a14ce7",
   "metadata": {},
   "outputs": [],
   "source": [
    "num_outputs = 2\n",
    "num_layers = 1\n",
    "dropout_rate = 0.0\n",
    "dff = 512\n",
    "dff_final = [512, 64]\n",
    "scale = 5.0\n",
    "\n",
    "print(x.shape) # (..., n_dim)\n",
    "print(x_inputs.shape) # (..., n_inputs, n_dim)\n",
    "print(inputs.shape) # (..., n_inputs, 1)"
   ]
  },
  {
   "cell_type": "code",
   "execution_count": null,
   "id": "2fc2f764-9b6d-4599-8d66-8938f37af9b5",
   "metadata": {},
   "outputs": [],
   "source": [
    "crazynet = quantumflow.crazynet.CrazyNet(num_outputs, num_layers, d_model, num_heads, dff, dff_final, dropout_rate, scale)"
   ]
  },
  {
   "cell_type": "code",
   "execution_count": null,
   "id": "cad3e696-a1bb-4ce8-80e4-41528ef28362",
   "metadata": {},
   "outputs": [],
   "source": [
    "crazynet(x, x_inputs, inputs)"
   ]
  },
  {
   "cell_type": "code",
   "execution_count": null,
   "id": "fc507812-fbaf-4d26-8e19-1483f2793fb1",
   "metadata": {},
   "outputs": [],
   "source": []
  }
 ],
 "metadata": {
  "kernelspec": {
   "display_name": "Python 3 (ipykernel)",
   "language": "python",
   "name": "python3"
  },
  "language_info": {
   "codemirror_mode": {
    "name": "ipython",
    "version": 3
   },
   "file_extension": ".py",
   "mimetype": "text/x-python",
   "name": "python",
   "nbconvert_exporter": "python",
   "pygments_lexer": "ipython3",
   "version": "3.9.2"
  }
 },
 "nbformat": 4,
 "nbformat_minor": 5
}
