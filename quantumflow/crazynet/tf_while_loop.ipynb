{
 "cells": [
  {
   "cell_type": "code",
   "execution_count": null,
   "id": "b6cdcf93-e22c-4940-8e3b-afa94682fbba",
   "metadata": {},
   "outputs": [],
   "source": [
    "import os\n",
    "import sys\n",
    "import logging\n",
    "os.environ['TF_CPP_MIN_LOG_LEVEL'] = '3'  # FATAL\n",
    "logging.getLogger('tensorflow').setLevel(logging.DEBUG)\n",
    "\n",
    "try:\n",
    "    from google.colab import drive\n",
    "    drive.mount('/content/drive')\n",
    "    !pip install -q ruamel.yaml\n",
    "    !pip install -q tensorboard-plugin-profile\n",
    "    project_path = '/content/drive/MyDrive/Colab Projects/QuantumFlow'\n",
    "except:\n",
    "    project_path = os.path.expanduser('~/QuantumFlow')"
   ]
  },
  {
   "cell_type": "code",
   "execution_count": null,
   "id": "acb1630b-55dd-4735-9fc4-09845cd57ab9",
   "metadata": {},
   "outputs": [],
   "source": [
    "os.chdir(project_path)\n",
    "sys.path.append(project_path)\n",
    "\n",
    "import numpy as np\n",
    "import tensorflow as tf\n",
    "import tree\n",
    "\n",
    "import matplotlib\n",
    "import matplotlib.pyplot as plt\n",
    "%matplotlib inline\n",
    "\n",
    "import quantumflow\n",
    "\n",
    "experiment = 'crazynet'\n",
    "run_name = 'default_deriv'\n",
    "\n",
    "base_dir = os.path.join(project_path, \"experiments\", experiment)\n",
    "params = quantumflow.utils.load_yaml(os.path.join(base_dir, 'hyperparams.yaml'))[run_name]\n",
    "run_dir = os.path.join(base_dir, run_name)"
   ]
  },
  {
   "cell_type": "code",
   "execution_count": null,
   "id": "336ca185-ad75-4b49-b1e3-5d463a6dc86c",
   "metadata": {},
   "outputs": [],
   "source": [
    "dataset_train = quantumflow.instantiate(params['dataset_train'], run_dir=run_dir)\n",
    "dataset_train.build()\n",
    "\n",
    "dataset_validate = quantumflow.instantiate(params['dataset_validate'], run_dir=run_dir)\n",
    "dataset_validate.build()"
   ]
  },
  {
   "cell_type": "code",
   "execution_count": null,
   "id": "1e5e5c30-f9aa-46ee-9a52-164a27f6e421",
   "metadata": {},
   "outputs": [],
   "source": [
    "tf.keras.backend.clear_session()\n",
    "tf.random.set_seed(params['seed'])\n",
    "\n",
    "model = quantumflow.instantiate(params['model'], run_dir=run_dir, dataset=dataset_train)\n",
    "display(model.summary())"
   ]
  },
  {
   "cell_type": "code",
   "execution_count": null,
   "id": "d34771e5-67e1-45c0-8610-8968fe22d835",
   "metadata": {},
   "outputs": [],
   "source": [
    "steps = 100\n",
    "\n",
    "def loss_fn(outputs, targets):\n",
    "    return tf.reduce_mean(tf.square(outputs['kinetic_energy_density'] - targets['kinetic_energy_density'])) + 10*tf.reduce_mean(tf.square(outputs['derivative'] - targets['derivative']))\n",
    "\n",
    "\n",
    "def validation_fn():\n",
    "    outputs_validate = tree.map_structure(lambda out: [], dataset_validate.targets)\n",
    "\n",
    "    for index in range(dataset_validate.dataset_size):\n",
    "        features = tree.map_structure(lambda inp: inp[index:index+1], dataset_validate.features)    \n",
    "        tree.map_structure_up_to(dataset_validate.targets, lambda pred, arr: arr.append(pred.numpy()), model(features), outputs_validate)\n",
    "\n",
    "    outputs_validate = tree.map_structure_up_to(dataset_validate.targets, lambda arr: np.concatenate(arr), outputs_validate)\n",
    "\n",
    "    return tree.map_structure(lambda pred, target: np.mean(np.abs(pred - target)), outputs_validate, dataset_validate.targets)\n",
    "\n",
    "\n",
    "optimizer = tf.keras.optimizers.Adam(learning_rate=1e-4)\n",
    "        \n",
    "losses = []\n",
    "validation = tree.map_structure(lambda out: [], dataset_validate.targets)\n",
    "\n",
    "import time\n",
    "start_time = time.time()"
   ]
  },
  {
   "cell_type": "code",
   "execution_count": null,
   "id": "9dd0a740-7d1c-4b62-ab85-fc5dda97a144",
   "metadata": {},
   "outputs": [],
   "source": [
    "@tf.function\n",
    "def step_fn(features, targets):\n",
    "    with tf.GradientTape() as tape:\n",
    "        outputs = model(features, training=True) \n",
    "        loss_value = loss_fn(outputs, targets)\n",
    "\n",
    "    grads = tape.gradient(loss_value, model.trainable_weights)\n",
    "\n",
    "    optimizer.apply_gradients(zip(grads, model.trainable_weights))\n",
    "    return loss_value\n",
    "\n",
    "\n",
    "print(f\"{'step':>10} {'loss':>20} {'kinetic_energy':>20} {'kinetic_energy_density':>25}\")\n",
    "\n",
    "for step in range(steps):\n",
    "    \n",
    "    index = np.random.randint(100)\n",
    "    features = tree.map_structure(lambda inp: inp[index:index+1], dataset_train.features)\n",
    "    targets = tree.map_structure(lambda inp: inp[index:index+1], dataset_train.targets)\n",
    "    \n",
    "    loss_value = step_fn(features, targets)\n",
    "    \n",
    "    if step % 1000 == 0:\n",
    "        mean_abs_err = validation_fn()\n",
    "        print(f\"{step:10d} {loss_value:20f} {mean_abs_err['kinetic_energy']:20f} {mean_abs_err['kinetic_energy_density']:25f}\")\n",
    "        tree.map_structure_up_to(dataset_validate.targets, lambda err, arr: arr.append(err), mean_abs_err, validation)\n",
    "        \n",
    "    losses.append(loss_value.numpy())\n",
    "    \n",
    "    if len(losses) > 25000:\n",
    "        optimizer.learning_rate.assign(optimizer.learning_rate*0.9999)\n",
    "        \n",
    "# kinetic_energy 0.00004\n",
    "# kinetic_energy_density 0.006"
   ]
  },
  {
   "cell_type": "code",
   "execution_count": null,
   "id": "5f47cff5-19a3-4c28-b9f9-66fa65dfd848",
   "metadata": {},
   "outputs": [],
   "source": [
    "tf.config.experimental.get_memory_info('GPU:0')['peak']/1024**3"
   ]
  },
  {
   "cell_type": "code",
   "execution_count": null,
   "id": "146aa394-0ad0-425b-87e0-934218267fbb",
   "metadata": {},
   "outputs": [],
   "source": [
    "x = np.float32(dataset_train.x[:, np.newaxis])\n",
    "x_inputs = np.float32(dataset_train.x[::10, np.newaxis])\n",
    "print(x.shape)\n",
    "print(x_inputs.shape)"
   ]
  },
  {
   "cell_type": "code",
   "execution_count": null,
   "id": "e9cf8391-bcc4-4ce3-ac4d-dc5ceba8cce8",
   "metadata": {},
   "outputs": [],
   "source": [
    "def get_projection_matrix(x, x_inputs):\n",
    "    n_dim = x.shape[-1]\n",
    "    x_diff = np.sqrt(np.sum(np.square(np.expand_dims(x, axis=1) - np.expand_dims(x_inputs, axis=0)), axis=-1))\n",
    "    \n",
    "    projection_fn = np.zeros_like(x_diff)\n",
    "    #print(projection_fn.shape)\n",
    "    # for every x\n",
    "    # get nearest n_dim+1 points\n",
    "    # interpolate\n",
    "    \n",
    "    for x in range(1, 49):\n",
    "        projection_fn[:, x] = np.concatenate([np.zeros((x-1)*10), np.linspace(0, 1, 11), np.linspace(0.9, 0, 10), np.zeros(500-21-(x-1)*10)], axis=0)\n",
    "        \n",
    "    projection_fn[:, 0] = np.concatenate([np.linspace(1, 0, 11), np.zeros(500-11)], axis=0)\n",
    "    projection_fn[:, -1] = np.concatenate([np.zeros(480), np.linspace(0, 1, 11), np.ones(9)], axis=0)\n",
    "    \n",
    "    return projection_fn\n",
    "\n",
    "y = np.zeros_like(x)\n",
    "y[::10] = 1\n",
    "\n",
    "projection_matrix = get_projection_matrix(x, x_inputs)\n",
    "\n",
    "plt.figure(figsize=(20, 3))\n",
    "plt.plot(projection_matrix)\n",
    "plt.plot(y, 'k.')\n",
    "plt.show()"
   ]
  },
  {
   "cell_type": "code",
   "execution_count": null,
   "id": "eca589b2-c2e3-4414-be92-619b892bbb1d",
   "metadata": {},
   "outputs": [],
   "source": [
    "density = dataset_train.density[:1]\n",
    "proj_coeff = np.matmul(density, projection_matrix)\n",
    "\n",
    "plt.figure(figsize=(20, 3))\n",
    "plt.plot(dataset_train.x, density.transpose())\n",
    "plt.show()"
   ]
  },
  {
   "cell_type": "code",
   "execution_count": null,
   "id": "f82f3574-0a8e-4601-8a88-1cdea8f2e048",
   "metadata": {},
   "outputs": [],
   "source": [
    "proj_coeff.shape"
   ]
  },
  {
   "cell_type": "code",
   "execution_count": null,
   "id": "6f5c5903-291c-4cdf-b431-78ce835aa1ae",
   "metadata": {},
   "outputs": [],
   "source": [
    "projection_matrix.shape"
   ]
  },
  {
   "cell_type": "code",
   "execution_count": null,
   "id": "d58d37db-cec9-43b6-a0b4-35cc6d5da763",
   "metadata": {},
   "outputs": [],
   "source": [
    "proj_density = np.matmul(proj_coeff, projection_matrix.transpose())"
   ]
  },
  {
   "cell_type": "code",
   "execution_count": null,
   "id": "2c79981e-00f6-47cd-a0c5-fa1f3e6f650d",
   "metadata": {},
   "outputs": [],
   "source": [
    "proj_density.shape"
   ]
  },
  {
   "cell_type": "code",
   "execution_count": null,
   "id": "e55733e2-7f33-487d-8f0a-0365912e22c2",
   "metadata": {},
   "outputs": [],
   "source": [
    "plt.figure(figsize=(20, 3))\n",
    "plt.plot(dataset_train.x, proj_density.transpose())\n",
    "plt.plot(dataset_train.x[5::10], proj_coeff.transpose(), 'k.')\n",
    "plt.show()"
   ]
  },
  {
   "cell_type": "code",
   "execution_count": null,
   "id": "d7582a4c-5ee7-4b94-8f97-828a1704c0f7",
   "metadata": {},
   "outputs": [],
   "source": []
  }
 ],
 "metadata": {
  "kernelspec": {
   "display_name": "Python 3 (ipykernel)",
   "language": "python",
   "name": "python3"
  },
  "language_info": {
   "codemirror_mode": {
    "name": "ipython",
    "version": 3
   },
   "file_extension": ".py",
   "mimetype": "text/x-python",
   "name": "python",
   "nbconvert_exporter": "python",
   "pygments_lexer": "ipython3",
   "version": "3.8.10"
  }
 },
 "nbformat": 4,
 "nbformat_minor": 5
}
