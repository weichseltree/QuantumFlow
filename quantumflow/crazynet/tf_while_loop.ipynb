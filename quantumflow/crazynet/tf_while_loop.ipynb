{
 "cells": [
  {
   "cell_type": "code",
   "execution_count": null,
   "id": "b6cdcf93-e22c-4940-8e3b-afa94682fbba",
   "metadata": {},
   "outputs": [],
   "source": [
    "import os\n",
    "import sys\n",
    "import logging\n",
    "os.environ['TF_CPP_MIN_LOG_LEVEL'] = '3'  # FATAL\n",
    "logging.getLogger('tensorflow').setLevel(logging.DEBUG)\n",
    "\n",
    "try:\n",
    "    from google.colab import drive\n",
    "    drive.mount('/content/drive')\n",
    "    !pip install -q ruamel.yaml\n",
    "    !pip install -q tensorboard-plugin-profile\n",
    "    project_path = '/content/drive/MyDrive/Colab Projects/QuantumFlow'\n",
    "except:\n",
    "    project_path = os.path.expanduser('~/QuantumFlow')"
   ]
  },
  {
   "cell_type": "code",
   "execution_count": null,
   "id": "acb1630b-55dd-4735-9fc4-09845cd57ab9",
   "metadata": {},
   "outputs": [],
   "source": [
    "os.chdir(project_path)\n",
    "sys.path.append(project_path)\n",
    "\n",
    "import numpy as np\n",
    "import tensorflow as tf\n",
    "import tree\n",
    "\n",
    "import matplotlib\n",
    "import matplotlib.pyplot as plt\n",
    "%matplotlib inline\n",
    "\n",
    "import quantumflow\n",
    "\n",
    "experiment = 'crazynet'\n",
    "run_name = 'default_while_loop'\n",
    "\n",
    "base_dir = os.path.join(project_path, \"experiments\", experiment)\n",
    "params = quantumflow.utils.load_yaml(os.path.join(base_dir, 'hyperparams.yaml'))[run_name]\n",
    "run_dir = os.path.join(base_dir, run_name)"
   ]
  },
  {
   "cell_type": "code",
   "execution_count": null,
   "id": "336ca185-ad75-4b49-b1e3-5d463a6dc86c",
   "metadata": {},
   "outputs": [],
   "source": [
    "dataset_train = quantumflow.instantiate(params['dataset_train'], run_dir=run_dir)\n",
    "dataset_train.build()\n",
    "\n",
    "dataset_validate = quantumflow.instantiate(params['dataset_validate'], run_dir=run_dir)\n",
    "dataset_validate.build()"
   ]
  },
  {
   "cell_type": "code",
   "execution_count": null,
   "id": "1e5e5c30-f9aa-46ee-9a52-164a27f6e421",
   "metadata": {},
   "outputs": [],
   "source": [
    "crazynet = quantumflow.instantiate(params['model'], num_outputs=1)"
   ]
  },
  {
   "cell_type": "code",
   "execution_count": null,
   "id": "5b6faf7a-ddc9-469a-8a4d-1dab5bb682e6",
   "metadata": {},
   "outputs": [],
   "source": [
    "x = np.zeros(shape=(100, 500, 1), dtype=np.float32)\n",
    "x_inputs = np.zeros(shape=(100, 500, 500, 1), dtype=np.float32)\n",
    "inputs = np.zeros(shape=(100, 500, 500, 1), dtype=np.float32)"
   ]
  },
  {
   "cell_type": "code",
   "execution_count": null,
   "id": "c8660ec8-792b-4cfe-800b-55f3a1df3022",
   "metadata": {},
   "outputs": [],
   "source": [
    "def loop_over_second_batch(core, all_x, all_x_inputs, all_inputs):\n",
    "    num_x = tf.shape(all_x)[1]\n",
    "    \n",
    "    x = tf.TensorArray(all_x.dtype, num_x).unstack(tf.transpose(all_x, perm=[1, 0, 2]))\n",
    "    x_inputs = tf.TensorArray(all_x_inputs.dtype, num_x).unstack(tf.transpose(all_x_inputs, perm=[1, 0, 2, 3]))\n",
    "    inputs = tf.TensorArray(all_inputs.dtype, num_x).unstack(tf.transpose(all_inputs, perm=[1, 0, 2, 3]))\n",
    "\n",
    "    output = core(x.read(0), x_inputs.read(0), inputs.read(0))\n",
    "    \n",
    "    output_x = tf.TensorArray(outputs.dtype, num_x).write(0, output)\n",
    "\n",
    "    for t in tf.range(1, num_x):\n",
    "        #tf.autograph.experimental.set_loop_options(\n",
    "        #    parallel_iterations=parallel_iterations,\n",
    "        #    swap_memory=swap_memory,\n",
    "        #    maximum_iterations=num_steps - 1)\n",
    "        \n",
    "        output = core(x.read(t), x_inputs.read(t), inputs.read(t))\n",
    "        output_x = output_x.write(t, output)\n",
    "\n",
    "    all_output = tf.TensorArray.stack(output_x)\n",
    "    return all_output"
   ]
  },
  {
   "cell_type": "code",
   "execution_count": null,
   "id": "395db545-75e9-473c-907d-c362d6ebf702",
   "metadata": {},
   "outputs": [],
   "source": [
    "loop_over_second_batch(crazynet, x, x_inputs, inputs)"
   ]
  },
  {
   "cell_type": "raw",
   "id": "51599763-bdf1-46b7-82d2-0f98b7baaf2c",
   "metadata": {},
   "source": [
    "\n",
    "class XLayer(tf.keras.layers.Layer):\n",
    "    \n",
    "    def __init__(self, dataset, subsample_inputs=1, **kwargs):\n",
    "        super().__init__(**kwargs)\n",
    "        self.subsample_inputs = subsample_inputs\n",
    "        \n",
    "        self.x = tf.Variable(initial_value=np.float32(dataset.x[np.newaxis, :, np.newaxis]), trainable=False, name='x')\n",
    "        self.x_inputs = tf.Variable(initial_value=np.float32(dataset.x[np.newaxis, np.newaxis, ::subsample_inputs, np.newaxis]), trainable=False, name='x_inputs')\n",
    "\n",
    "    def call(self, density):\n",
    "        return (\n",
    "            tf.repeat(self.x, tf.shape(density)[0], axis=0),\n",
    "            tf.repeat(tf.repeat(self.x_inputs, self.x.shape[1], axis=1), tf.shape(density)[0], axis=0),\n",
    "            tf.repeat(tf.expand_dims(tf.expand_dims(density[:, ::self.subsample_inputs], axis=-1), axis=1), self.x.shape[1], axis=1)\n",
    "        )\n",
    "    \n",
    "    def get_config(self):\n",
    "        return {\"subsample_inputs\": self.subsample_inputs}\n",
    "\n",
    "    \n",
    "def CrazyNet_KineticEnergyDensityFunctional(run_dir, dataset, subsample_inputs=1, **kwargs):    \n",
    "    density = tf.keras.layers.Input(shape=dataset.density.shape[1:], name='density')\n",
    "    \n",
    "    x, x_inputs, inputs = XLayer(dataset, subsample_inputs)(density)\n",
    "\n",
    "    value = CrazyNet(num_outputs=1, **kwargs)(x, x_inputs, inputs)\n",
    "    \n",
    "    kinetic_energy_density = tf.keras.layers.Lambda(lambda x: tf.reduce_sum(x, axis=-1), name='kinetic_energy_density')(value)\n",
    "    kinetic_energy = IntegrateLayer(dataset.h, name='kinetic_energy')(kinetic_energy_density)\n",
    "    \n",
    "    return tf.keras.Model(inputs={'density': density}, outputs={'kinetic_energy': kinetic_energy, 'kinetic_energy_density': kinetic_energy_density})\n"
   ]
  }
 ],
 "metadata": {
  "kernelspec": {
   "display_name": "Python 3 (ipykernel)",
   "language": "python",
   "name": "python3"
  },
  "language_info": {
   "codemirror_mode": {
    "name": "ipython",
    "version": 3
   },
   "file_extension": ".py",
   "mimetype": "text/x-python",
   "name": "python",
   "nbconvert_exporter": "python",
   "pygments_lexer": "ipython3",
   "version": "3.9.2"
  }
 },
 "nbformat": 4,
 "nbformat_minor": 5
}
