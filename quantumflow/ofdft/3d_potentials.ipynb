{
 "cells": [
  {
   "cell_type": "code",
   "execution_count": null,
   "id": "eb96d209-9a39-4c58-a884-4bf70d1f4d3c",
   "metadata": {},
   "outputs": [],
   "source": [
    "import os\n",
    "import sys\n",
    "import logging\n",
    "os.environ['TF_CPP_MIN_LOG_LEVEL'] = '3'  # FATAL\n",
    "logging.getLogger('tensorflow').setLevel(logging.DEBUG)\n",
    "\n",
    "try:\n",
    "    from google.colab import drive\n",
    "    drive.mount('/content/drive')\n",
    "    !pip install -q ruamel.yaml\n",
    "    project_path = '/content/drive/MyDrive/Colab Projects/quantumflow'\n",
    "except:\n",
    "    project_path = os.path.expanduser('~/quantumflow')"
   ]
  },
  {
   "cell_type": "code",
   "execution_count": null,
   "id": "1b47a0e0-e323-416d-80fe-8356e0fc7b4d",
   "metadata": {},
   "outputs": [],
   "source": [
    "os.chdir(project_path)\n",
    "sys.path.append(project_path)\n",
    "\n",
    "import quantumflow\n",
    "import quantumflow.ofdft\n",
    "\n",
    "import numpy as np\n",
    "import scipy.stats\n",
    "import tensorflow as tf\n",
    "import tree\n",
    "\n",
    "import matplotlib\n",
    "import matplotlib.pyplot as plt\n",
    "%matplotlib inline"
   ]
  },
  {
   "cell_type": "code",
   "execution_count": null,
   "id": "30722322-6311-41b1-aa63-d34aca743dc2",
   "metadata": {},
   "outputs": [],
   "source": [
    "scale = 6\n",
    "n = 12\n",
    "N = n**3\n",
    "\n",
    "'''\n",
    "pdf = scipy.stats.norm(0, scale)\n",
    "X = pdf.rvs(N)\n",
    "Y = pdf.rvs(N)\n",
    "Z = pdf.rvs(N)\n",
    "p = pdf.pdf(X) * pdf.pdf(Y) * pdf.pdf(Z)\n",
    "'''\n",
    "\n",
    "x = y = z = np.linspace(-1 + 1 / n, 1 - 1 / n, n) * scale\n",
    "X, Y, Z = [XYZ.flatten() for XYZ in np.meshgrid(x, y, z)]\n",
    "dV = ((2 * scale) / n) ** 3\n",
    "\n",
    "wf = quantumflow.ofdft.hydrogen_wf(X, Y, Z, n=1, l=0, m=0)\n",
    "\n",
    "density = wf.imag**2 + wf.real**2\n",
    "\n",
    "np.mean(density / dV)"
   ]
  },
  {
   "cell_type": "code",
   "execution_count": null,
   "id": "1767ce32-1072-4709-bc9f-b656b435cb54",
   "metadata": {},
   "outputs": [],
   "source": [
    "plt.figure(figsize=(10, 10))\n",
    "ax = plt.axes(projection=\"3d\")\n",
    "ax.scatter3D(X, Y, Z, c=1 / (1 + np.exp(-density)), alpha=0.1)\n",
    "plt.show()"
   ]
  },
  {
   "cell_type": "code",
   "execution_count": null,
   "id": "93b391d6-509f-42c6-a1d4-e7d7bf926140",
   "metadata": {},
   "outputs": [],
   "source": []
  }
 ],
 "metadata": {
  "kernelspec": {
   "display_name": "Python 3 (ipykernel)",
   "language": "python",
   "name": "python3"
  },
  "language_info": {
   "codemirror_mode": {
    "name": "ipython",
    "version": 3
   },
   "file_extension": ".py",
   "mimetype": "text/x-python",
   "name": "python",
   "nbconvert_exporter": "python",
   "pygments_lexer": "ipython3",
   "version": "3.8.10"
  }
 },
 "nbformat": 4,
 "nbformat_minor": 5
}
