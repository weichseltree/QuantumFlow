{
 "cells": [
  {
   "cell_type": "code",
   "execution_count": null,
   "id": "2800a1f5-8559-48d9-a6db-e300bd75af71",
   "metadata": {},
   "outputs": [],
   "source": [
    "import os\n",
    "import sys\n",
    "import logging\n",
    "os.environ['TF_CPP_MIN_LOG_LEVEL'] = '3'  # FATAL\n",
    "logging.getLogger('tensorflow').setLevel(logging.DEBUG)\n",
    "\n",
    "try:\n",
    "    from google.colab import drive\n",
    "    drive.mount('/content/drive')\n",
    "    !pip install -q ruamel.yaml\n",
    "    !pip install -q tensorboard-plugin-profile\n",
    "    project_path = '/content/drive/MyDrive/Colab Projects/QuantumFlow'\n",
    "except:\n",
    "    project_path = os.path.expanduser('~/QuantumFlow')"
   ]
  },
  {
   "cell_type": "code",
   "execution_count": null,
   "id": "2969af7b-6f6e-400c-8a97-a1d707f355b1",
   "metadata": {},
   "outputs": [],
   "source": [
    "os.chdir(project_path)\n",
    "sys.path.append(project_path)\n",
    "\n",
    "import numpy as np\n",
    "import tensorflow as tf\n",
    "import tree\n",
    "\n",
    "import matplotlib\n",
    "import matplotlib.pyplot as plt\n",
    "%matplotlib inline\n",
    "\n",
    "import quantumflow\n",
    "\n",
    "experiment = 'crazynet'\n",
    "run_name = 'default'\n",
    "\n",
    "base_dir = os.path.join(project_path, \"experiments\", experiment)\n",
    "params = quantumflow.utils.load_yaml(os.path.join(base_dir, 'hyperparams.yaml'))[run_name]\n",
    "run_dir = os.path.join(base_dir, run_name)"
   ]
  },
  {
   "cell_type": "code",
   "execution_count": null,
   "id": "8edd0df2-8a16-4d70-a4cc-7a7ddc05e0ec",
   "metadata": {},
   "outputs": [],
   "source": [
    "dataset_train = quantumflow.instantiate(params['dataset_train'], run_dir=run_dir)\n",
    "dataset_train.build()\n",
    "\n",
    "dataset_validate = quantumflow.instantiate(params['dataset_validate'], run_dir=run_dir)\n",
    "dataset_validate.build()\n",
    "\n",
    "dataset_train.visualize()"
   ]
  },
  {
   "cell_type": "code",
   "execution_count": null,
   "id": "18a0b764-f1ee-4e64-8a10-fb9c9517316c",
   "metadata": {},
   "outputs": [],
   "source": [
    "tf.keras.backend.clear_session()\n",
    "tf.random.set_seed(params['seed'])\n",
    "\n",
    "model = quantumflow.instantiate(params['model'], run_dir=run_dir, dataset=dataset_train)\n",
    "display(model.summary())"
   ]
  },
  {
   "cell_type": "code",
   "execution_count": null,
   "id": "4e636e2d-bb66-43eb-a4cb-acdf39141fe3",
   "metadata": {},
   "outputs": [],
   "source": [
    "steps = 10\n",
    "\n",
    "def loss_fn(outputs, targets):\n",
    "    return tf.reduce_mean(tf.square(outputs['kinetic_energy_density'] - targets['kinetic_energy_density']))\n",
    "\n",
    "\n",
    "def validation_fn():\n",
    "    outputs_validate = tree.map_structure(lambda out: [], dataset_validate.targets)\n",
    "\n",
    "    for index in range(dataset_validate.dataset_size):\n",
    "        features = tree.map_structure(lambda inp: inp[index:index+1], dataset_validate.features)    \n",
    "        tree.map_structure_up_to(dataset_validate.targets, lambda pred, arr: arr.append(pred.numpy()), model(features), outputs_validate)\n",
    "\n",
    "    outputs_validate = tree.map_structure_up_to(dataset_validate.targets, lambda arr: np.concatenate(arr), outputs_validate)\n",
    "\n",
    "    return tree.map_structure(lambda pred, target: np.mean(np.abs(pred - target)), outputs_validate, dataset_validate.targets)\n",
    "\n",
    "\n",
    "optimizer = tf.keras.optimizers.Adam(learning_rate=1e-4)\n",
    "\n",
    "if 'derivative' in dataset_validate.targets:\n",
    "    del dataset_validate.targets['derivative']\n",
    "        \n",
    "losses = []\n",
    "validation = tree.map_structure(lambda out: [], dataset_validate.targets)"
   ]
  },
  {
   "cell_type": "code",
   "execution_count": null,
   "id": "6401acea-30f3-495a-a31a-df737cc4be96",
   "metadata": {},
   "outputs": [],
   "source": [
    "@tf.function\n",
    "def step_fn(features, targets):\n",
    "    with tf.GradientTape() as tape:\n",
    "\n",
    "        outputs = model(features, training=True) \n",
    "\n",
    "        loss_value = loss_fn(outputs, targets)\n",
    "\n",
    "    grads = tape.gradient(loss_value, model.trainable_weights)\n",
    "\n",
    "    optimizer.apply_gradients(zip(grads, model.trainable_weights))\n",
    "    return loss_value\n",
    "\n",
    "\n",
    "print(f\"{'step':>10} {'loss':>20} {'kinetic_energy':>20} {'kinetic_energy_density':>25}\")\n",
    "\n",
    "for step in range(steps):\n",
    "    \n",
    "    index = np.random.randint(100)\n",
    "    features = tree.map_structure(lambda inp: inp[index:index+1], dataset_train.features)\n",
    "    targets = tree.map_structure(lambda inp: inp[index:index+1], dataset_train.targets)\n",
    "\n",
    "    loss_value = step_fn(features, targets)\n",
    "    \n",
    "    if step % 1000 == 0:\n",
    "        mean_abs_err = validation_fn()\n",
    "        print(f\"{step:10d} {loss_value:20f} {mean_abs_err['kinetic_energy']:20f} {mean_abs_err['kinetic_energy_density']:25f}\")\n",
    "        tree.map_structure_up_to(dataset_validate.targets, lambda err, arr: arr.append(err), mean_abs_err, validation)\n",
    "        \n",
    "    losses.append(loss_value.numpy())\n",
    "    \n",
    "    if len(losses) > 25000:\n",
    "        optimizer.learning_rate.assign(optimizer.learning_rate*0.9999)\n",
    "        \n",
    "# kinetic_energy 0.00004\n",
    "# kinetic_energy_density 0.006"
   ]
  },
  {
   "cell_type": "code",
   "execution_count": null,
   "id": "4140adbb-a767-41a8-aa0e-39ae1edf1701",
   "metadata": {},
   "outputs": [],
   "source": [
    "plt.figure(figsize=(20, 3))\n",
    "plt.plot(losses)\n",
    "plt.yscale('log')\n",
    "plt.show()"
   ]
  },
  {
   "cell_type": "code",
   "execution_count": null,
   "id": "1fe4fc5f-b7e8-4f94-ada1-f3b4f78b002e",
   "metadata": {},
   "outputs": [],
   "source": [
    "plt.figure(figsize=(20, 3))\n",
    "plt.plot(validation['kinetic_energy'])\n",
    "plt.yscale('log')\n",
    "plt.show()\n",
    "\n",
    "plt.figure(figsize=(20, 3))\n",
    "plt.plot(validation['kinetic_energy_density'])\n",
    "plt.yscale('log')\n",
    "plt.show()"
   ]
  },
  {
   "cell_type": "code",
   "execution_count": null,
   "id": "8958602a-d4a1-4291-90e5-c73799030f10",
   "metadata": {},
   "outputs": [],
   "source": [
    "plt.figure(figsize=(20, 3))\n",
    "for index in range(5):\n",
    "    features = tree.map_structure(lambda inp: inp[index:index+1], dataset_validate.features)\n",
    "    targets = tree.map_structure(lambda inp: inp[index:index+1], dataset_validate.targets)\n",
    "    \n",
    "    outputs = model(features)\n",
    "    plt.plot(dataset_train.x, outputs['kinetic_energy_density'].numpy().transpose())\n",
    "    plt.plot(dataset_train.x, targets['kinetic_energy_density'].transpose(), 'k')\n",
    "plt.show()"
   ]
  },
  {
   "cell_type": "code",
   "execution_count": null,
   "id": "beacf70a-0db6-4967-ae11-c8c94b80eb1a",
   "metadata": {},
   "outputs": [],
   "source": [
    "plt.figure(figsize=(20, 3))\n",
    "for index in range(5):\n",
    "    features = tree.map_structure(lambda inp: inp[index:index+1], dataset_validate.features)\n",
    "    targets = tree.map_structure(lambda inp: inp[index:index+1], dataset_validate.targets)\n",
    "    \n",
    "    outputs = model(features)\n",
    "    plt.plot(dataset_train.x, outputs['kinetic_energy_density'].numpy().transpose()-targets['kinetic_energy_density'].transpose(), 'k')\n",
    "plt.show()"
   ]
  },
  {
   "cell_type": "code",
   "execution_count": null,
   "id": "55007e8f-856c-41d5-a12b-bfd03a5ba6fc",
   "metadata": {},
   "outputs": [],
   "source": [
    "validation_fn()"
   ]
  },
  {
   "cell_type": "code",
   "execution_count": null,
   "id": "bfb03b8c-dba8-43e2-bfbc-0ccdfa0de3f9",
   "metadata": {},
   "outputs": [],
   "source": []
  }
 ],
 "metadata": {
  "kernelspec": {
   "display_name": "Python 3 (ipykernel)",
   "language": "python",
   "name": "python3"
  },
  "language_info": {
   "codemirror_mode": {
    "name": "ipython",
    "version": 3
   },
   "file_extension": ".py",
   "mimetype": "text/x-python",
   "name": "python",
   "nbconvert_exporter": "python",
   "pygments_lexer": "ipython3",
   "version": "3.8.10"
  }
 },
 "nbformat": 4,
 "nbformat_minor": 5
}
