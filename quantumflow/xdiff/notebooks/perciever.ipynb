{
 "cells": [
  {
   "cell_type": "code",
   "execution_count": null,
   "id": "2911e20d-a894-42c3-9c6f-02cac98f8cd0",
   "metadata": {},
   "outputs": [],
   "source": [
    "import os\n",
    "import sys\n",
    "import logging\n",
    "os.environ['TF_CPP_MIN_LOG_LEVEL'] = '3'  # FATAL\n",
    "#os.environ[\"CUDA_VISIBLE_DEVICES\"] = \"-1\" # disable GPU\n",
    "logging.getLogger('tensorflow').setLevel(logging.DEBUG)\n",
    "\n",
    "try:\n",
    "    from google.colab import drive\n",
    "    drive.mount('/content/drive')\n",
    "    !pip install -q ruamel.yaml\n",
    "    !pip install -q tensorboard-plugin-profile\n",
    "    project_path = '/content/drive/MyDrive/Colab Projects/QuantumFlow'\n",
    "except:\n",
    "    project_path = os.path.expanduser('~/QuantumFlow')"
   ]
  },
  {
   "cell_type": "code",
   "execution_count": null,
   "id": "040a3f94-aa4f-4824-927c-149e875d47c9",
   "metadata": {},
   "outputs": [],
   "source": [
    "os.chdir(project_path)\n",
    "sys.path.append(project_path)\n",
    "\n",
    "import tensorflow as tf\n",
    "import numpy as np\n",
    "\n",
    "import matplotlib\n",
    "import matplotlib.pyplot as plt\n",
    "%matplotlib inline\n",
    "\n",
    "import quantumflow\n",
    "import quantumflow.xdiff"
   ]
  },
  {
   "cell_type": "code",
   "execution_count": null,
   "id": "68ccc3a0-8c0a-404a-a337-9a044b2a1405",
   "metadata": {},
   "outputs": [],
   "source": [
    "batch_size = 1\n",
    "n_latents = 5\n",
    "n_inputs = 33\n",
    "n_dim = 2\n",
    "d_model = 8\n",
    "num_heads = 2\n",
    "dff = 16\n",
    "dropout_rate = 0.0\n",
    "scale = 5.0\n",
    "\n",
    "layer = quantumflow.xdiff.XdiffEncoderLayer(d_model, num_heads, dff, dropout_rate)\n",
    "cross_layer = quantumflow.xdiff.XdiffCrossEncoderLayer(d_model, num_heads, dff, dropout_rate)"
   ]
  },
  {
   "cell_type": "code",
   "execution_count": null,
   "id": "a39330ee-0d16-40cc-970c-f8f431108a6f",
   "metadata": {},
   "outputs": [],
   "source": [
    "latents = np.float32(np.random.randn(batch_size, n_latents, d_model))\n",
    "inputs = np.float32(np.random.randn(batch_size, n_inputs, d_model))\n",
    "\n",
    "x_latents = np.random.randn(batch_size, n_latents, n_dim)\n",
    "x_inputs = np.random.randn(batch_size, n_inputs, n_dim)\n",
    "\n",
    "xdiff = np.float32(quantumflow.xdiff.get_xdiff(x_latents, x_latents).numpy())/scale\n",
    "xdiff_cross = np.float32(quantumflow.xdiff.get_xdiff(x_latents, x_inputs).numpy())/scale"
   ]
  },
  {
   "cell_type": "code",
   "execution_count": null,
   "id": "e307c42f-d789-4969-a1f3-8f5e71edbd9e",
   "metadata": {},
   "outputs": [],
   "source": [
    "print(latents.shape)\n",
    "layer(latents, xdiff).shape"
   ]
  },
  {
   "cell_type": "code",
   "execution_count": null,
   "id": "4425c556-acd2-4144-bc85-70f6d5c2437c",
   "metadata": {},
   "outputs": [],
   "source": [
    "print(latents.shape, inputs.shape)\n",
    "cross_layer(latents, inputs, xdiff_cross).shape"
   ]
  },
  {
   "cell_type": "code",
   "execution_count": null,
   "id": "67861268-445a-4c61-8193-5ba70166fdf6",
   "metadata": {},
   "outputs": [],
   "source": [
    "for var in layer.variables:\n",
    "    print(var.name, var.shape)"
   ]
  },
  {
   "cell_type": "code",
   "execution_count": null,
   "id": "542df535-2a25-42d9-9185-11053b4c00f2",
   "metadata": {},
   "outputs": [],
   "source": [
    "for var in cross_layer.variables:\n",
    "    print(var.name, var.shape)"
   ]
  },
  {
   "cell_type": "code",
   "execution_count": null,
   "id": "943031e7-068c-49f4-b086-bdba0da9d96e",
   "metadata": {},
   "outputs": [],
   "source": []
  }
 ],
 "metadata": {
  "kernelspec": {
   "display_name": "Python 3 (ipykernel)",
   "language": "python",
   "name": "python3"
  },
  "language_info": {
   "codemirror_mode": {
    "name": "ipython",
    "version": 3
   },
   "file_extension": ".py",
   "mimetype": "text/x-python",
   "name": "python",
   "nbconvert_exporter": "python",
   "pygments_lexer": "ipython3",
   "version": "3.8.10"
  }
 },
 "nbformat": 4,
 "nbformat_minor": 5
}
