{
 "cells": [
  {
   "cell_type": "code",
   "execution_count": null,
   "metadata": {},
   "outputs": [],
   "source": [
    "notebook_path = \"Projects/QuantumFlow/notebooks\"\n",
    "try:\n",
    "    import os\n",
    "    from google.colab import drive\n",
    "    drive.mount('/content/gdrive')\n",
    "    os.chdir(\"/content/gdrive/My Drive/\" + notebook_path)\n",
    "except:\n",
    "    pass\n",
    "\n",
    "import tensorflow as tf\n",
    "import numpy as np\n",
    "import matplotlib.pyplot as plt\n",
    "import pickle\n",
    "import os\n",
    "%matplotlib inline\n",
    "\n",
    "tf.enable_eager_execution()\n",
    "\n",
    "import ipywidgets as widgets\n",
    "from IPython.display import display\n",
    "\n",
    "import sys\n",
    "sys.path.append('../')\n",
    "\n",
    "from quantumflow.numerov_solver import solve_schroedinger\n",
    "from quantumflow.colab_utils import load_hyperparameters, test_colab_devices\n",
    "\n",
    "has_gpu, has_tpu = test_colab_devices()\n",
    "if has_gpu: print(\"Found GPU\")\n",
    "if has_tpu: print(\"Found TPU\")\n",
    "\n",
    "!pip install -q ruamel.yaml\n",
    "data_dir = \"../data\""
   ]
  },
  {
   "cell_type": "code",
   "execution_count": null,
   "metadata": {},
   "outputs": [],
   "source": [
    "import pandas as pd\n",
    "\n",
    "def calculate_potentials(a, b, c, \n",
    "                         dataset_size=100, \n",
    "                         discretisation_points=500, \n",
    "                         n_gauss=3, \n",
    "                         interval_length=1.0,\n",
    "                         dtype='float64',\n",
    "                         **kwargs):\n",
    "    \n",
    "    a = tf.cast(a, dtype)\n",
    "    b = tf.cast(b, dtype)\n",
    "    c = tf.cast(c, dtype)\n",
    "\n",
    "    x = tf.linspace(tf.constant(0.0, dtype=dtype), interval_length, discretisation_points)\n",
    "\n",
    "    curves = -tf.square(tf.expand_dims(tf.expand_dims(x, 0), 2) - b)/(2*tf.square(c))\n",
    "    curves = -a*tf.exp(curves)\n",
    "\n",
    "    potential = tf.reduce_sum(curves, -1)\n",
    "    h = tf.cast(interval_length/(discretisation_points-1), dtype=dtype) # discretisation interval\n",
    "\n",
    "    return potential, x, h\n",
    "\n",
    "paper_coeff = pd.read_csv('1b_paper_potentials.txt', delimiter=' ')\n",
    "paper_coeff.head()"
   ]
  },
  {
   "cell_type": "code",
   "execution_count": null,
   "metadata": {},
   "outputs": [],
   "source": [
    "experiment = 'recreate'\n",
    "base_dir = os.path.join(data_dir, experiment)\n",
    "\n",
    "params = load_hyperparameters(os.path.join(data_dir, experiment, \"hyperparams.config\"), run_name='train', globals=globals())\n",
    "params['filename'] = \"dataset_paper\"\n",
    "\n",
    "a = paper_coeff[['a1', 'a2', 'a3']].values[:, np.newaxis, :]\n",
    "c = paper_coeff[['b1', 'b2', 'b3']].values[:, np.newaxis, :] # b<->c listed wrong in the paper\n",
    "b = paper_coeff[['c1', 'c2', 'c3']].values[:, np.newaxis, :]\n",
    "\n",
    "potential, x, h = calculate_potentials(a, b, c, **params)\n",
    "params['h'] = h\n",
    "\n",
    "energies, wavefunctions = solve_schroedinger(potential, params)\n",
    "\n",
    "with open(os.path.join(base_dir, params['filename']), 'wb') as f:\n",
    "    pickle.dump({'x': x.numpy(), 'h': h.numpy(), 'potential': potential.numpy(), 'wavefunctions': wavefunctions.numpy(), 'energies': energies.numpy()}, f)\n",
    "\n",
    "print(\"dataset\", params['filename'], \"saved to\", base_dir)"
   ]
  },
  {
   "cell_type": "code",
   "execution_count": null,
   "metadata": {},
   "outputs": [],
   "source": [
    "preview = 5\n",
    "analysis_dataset_size = 100\n",
    "figsize = (20, 3)\n",
    "dpi = None\n",
    "\n",
    "plt.figure(figsize=figsize, dpi=dpi)\n",
    "plt.plot(x, np.transpose(potential)[:, :preview]) # only plot first potentials\n",
    "plt.title(\"Recreated potentials from paper\")\n",
    "plt.xlabel(\"x / bohr\")\n",
    "plt.ylabel(\"V(x) / hartree\")\n",
    "plt.show()"
   ]
  },
  {
   "cell_type": "markdown",
   "metadata": {},
   "source": [
    "## Recreate Sample Potential"
   ]
  },
  {
   "cell_type": "code",
   "execution_count": null,
   "metadata": {},
   "outputs": [],
   "source": [
    "# parameters were found by gradient descent\n",
    "a = [4.02480191, 5.99455501, 10.76801402]\n",
    "b = [0.52157438, 0.58645736, 0.57318963]\n",
    "c = [0.07131018, 0.03986175, 0.05540802]\n",
    "\n",
    "a = np.array(a)[np.newaxis, np.newaxis, :]\n",
    "b = np.array(b)[np.newaxis, np.newaxis, :]\n",
    "c = np.array(c)[np.newaxis, np.newaxis, :]\n",
    "\n",
    "params['filename'] = \"dataset_sample\"\n",
    "\n",
    "potential, x, h = calculate_potentials(a, b, c, **params)\n",
    "params['h'] = h\n",
    "\n",
    "energies, wavefunctions = solve_schroedinger(potential, params)\n",
    "\n",
    "with open(os.path.join(base_dir, params['filename']), 'wb') as f:\n",
    "    pickle.dump({'x': x.numpy(), 'h': h.numpy(), 'potential': potential.numpy(), 'wavefunctions': wavefunctions.numpy(), 'energies': energies.numpy()}, f)\n",
    "\n",
    "print(\"dataset\", params['filename'], \"saved to\", base_dir)"
   ]
  },
  {
   "cell_type": "code",
   "execution_count": null,
   "metadata": {},
   "outputs": [],
   "source": [
    "img = plt.imread(\"1b_sample_potential.png\")\n",
    "fig, ax = plt.subplots(figsize=(10, 6))\n",
    "ax.imshow(img, extent=[0, 1, -40, 40])\n",
    "plt.axis('auto')\n",
    "plt.plot(x, np.transpose(potential))\n",
    "plt.show()"
   ]
  },
  {
   "cell_type": "code",
   "execution_count": null,
   "metadata": {},
   "outputs": [],
   "source": []
  }
 ],
 "metadata": {
  "accelerator": "GPU",
  "colab": {
   "collapsed_sections": [],
   "name": "1b_recreate_dataset.ipynb",
   "provenance": []
  },
  "kernelspec": {
   "display_name": "Python 3",
   "name": "python3"
  }
 },
 "nbformat": 4,
 "nbformat_minor": 0
}
