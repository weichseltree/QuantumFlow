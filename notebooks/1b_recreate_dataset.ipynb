{
 "cells": [
  {
   "cell_type": "code",
   "execution_count": null,
   "metadata": {},
   "outputs": [],
   "source": [
    "# setup notebook if it is run on Google Colab, cwd = notebook file location\n",
    "try:\n",
    "    # change notebook_path if this notebook is in a different subfolder of Google Drive\n",
    "    notebook_path = \"Projects/QuantumFlow/notebooks\"\n",
    "\n",
    "    import os\n",
    "    from google.colab import drive\n",
    "    drive.mount('/content/gdrive')\n",
    "    os.chdir(\"/content/gdrive/My Drive/\" + notebook_path)\n",
    "\n",
    "    %tensorflow_version 2.x\n",
    "    !pip install -q ruamel.yaml\n",
    "except:\n",
    "    pass\n",
    "\n",
    "# imports\n",
    "import tensorflow as tf\n",
    "import numpy as np\n",
    "\n",
    "# setup paths and variables for shared code (../quantumflow) and data (../data)\n",
    "import sys\n",
    "sys.path.append('../')\n",
    "data_dir = \"../data\"\n",
    "\n",
    "# import shared code, must run 0_create_shared_project_files.ipynb first!\n",
    "from quantumflow.generate_datasets import generate_potentials, save_dataset\n",
    "from quantumflow.numerov_solver import solve_schroedinger\n",
    "from quantumflow.utils import load_hyperparameters"
   ]
  },
  {
   "cell_type": "code",
   "execution_count": null,
   "metadata": {},
   "outputs": [],
   "source": [
    "import pandas as pd\n",
    "\n",
    "def calculate_potentials(a, b, c, \n",
    "                         dataset_size=100, \n",
    "                         discretisation_points=500, \n",
    "                         n_gauss=3, \n",
    "                         interval_length=1.0,\n",
    "                         dtype='float64',\n",
    "                         **kwargs):\n",
    "    \n",
    "    a = tf.cast(a, dtype)\n",
    "    b = tf.cast(b, dtype)\n",
    "    c = tf.cast(c, dtype)\n",
    "\n",
    "    x = tf.linspace(tf.constant(0.0, dtype=dtype), interval_length, discretisation_points)\n",
    "\n",
    "    curves = -tf.square(tf.expand_dims(tf.expand_dims(x, 0), 2) - b)/(2*tf.square(c))\n",
    "    curves = -a*tf.exp(curves)\n",
    "\n",
    "    potential = tf.reduce_sum(curves, -1)\n",
    "    h = tf.cast(interval_length/(discretisation_points-1), dtype=dtype) # discretisation interval\n",
    "\n",
    "    return potential, x, h\n",
    "\n",
    "paper_coeff = pd.read_csv('1b_paper_potentials.txt', delimiter=' ')\n",
    "paper_coeff.head()"
   ]
  },
  {
   "cell_type": "code",
   "execution_count": null,
   "metadata": {},
   "outputs": [],
   "source": [
    "experiment = 'datasets'\n",
    "base_dir = os.path.join(data_dir, experiment)\n",
    "\n",
    "params = load_hyperparameters(os.path.join(data_dir, experiment, \"hyperparams.config\"), run_name='test', globals=globals())\n",
    "params['filename'] = \"dataset_paper\"\n",
    "params['format'] = 'hdf5'\n",
    "\n",
    "a = paper_coeff[['a1', 'a2', 'a3']].values[:, np.newaxis, :]\n",
    "c = paper_coeff[['b1', 'b2', 'b3']].values[:, np.newaxis, :] # b<->c listed wrong in the paper\n",
    "b = paper_coeff[['c1', 'c2', 'c3']].values[:, np.newaxis, :]\n",
    "\n",
    "potential, x, h = calculate_potentials(a, b, c, **params)\n",
    "params['h'] = h\n",
    "\n",
    "tf.keras.backend.clear_session()\n",
    "tf.keras.backend.set_floatx(params['dtype'])\n",
    "energies, wavefunctions = solve_schroedinger(potential, params)\n",
    "\n",
    "save_dataset(base_dir, params['filename'], params['format'],  x.numpy(), h.numpy(), potential.numpy(), wavefunctions.numpy(), energies.numpy())\n",
    "print(\"dataset\", params['filename'], \"saved to\", base_dir)"
   ]
  },
  {
   "cell_type": "code",
   "execution_count": null,
   "metadata": {},
   "outputs": [],
   "source": [
    "import matplotlib.pyplot as plt\n",
    "%matplotlib inline\n",
    "\n",
    "preview = 5\n",
    "analysis_dataset_size = 100\n",
    "figsize = (20, 3)\n",
    "dpi = None\n",
    "\n",
    "plt.figure(figsize=figsize, dpi=dpi)\n",
    "plt.plot(x, np.transpose(potential)[:, :preview]) # only plot first potentials\n",
    "plt.title(\"Recreated potentials from paper\")\n",
    "plt.xlabel(\"x / bohr\")\n",
    "plt.ylabel(\"V(x) / hartree\")\n",
    "plt.show()"
   ]
  },
  {
   "cell_type": "markdown",
   "metadata": {},
   "source": [
    "## Recreate Sample Potential"
   ]
  },
  {
   "cell_type": "code",
   "execution_count": null,
   "metadata": {},
   "outputs": [],
   "source": [
    "# parameters were found by gradient descent\n",
    "a = [4.02480191, 5.99455501, 10.76801402]\n",
    "b = [0.52157438, 0.58645736, 0.57318963]\n",
    "c = [0.07131018, 0.03986175, 0.05540802]\n",
    "\n",
    "a = np.array(a)[np.newaxis, np.newaxis, :]\n",
    "b = np.array(b)[np.newaxis, np.newaxis, :]\n",
    "c = np.array(c)[np.newaxis, np.newaxis, :]\n",
    "\n",
    "params['filename'] = \"dataset_sample\"\n",
    "\n",
    "potential, x, h = calculate_potentials(a, b, c, **params)\n",
    "params['h'] = h\n",
    "\n",
    "tf.keras.backend.clear_session()\n",
    "energies, wavefunctions = solve_schroedinger(potential, params)\n",
    "\n",
    "save_dataset(base_dir, params['filename'], params['format'],  x.numpy(), h.numpy(), potential.numpy(), wavefunctions.numpy(), energies.numpy())\n",
    "print(\"dataset\", params['filename'], \"saved to\", base_dir)"
   ]
  },
  {
   "cell_type": "code",
   "execution_count": null,
   "metadata": {},
   "outputs": [],
   "source": [
    "img = plt.imread(\"1b_sample_potential.png\")\n",
    "fig, ax = plt.subplots(figsize=(10, 6))\n",
    "ax.imshow(img, extent=[0, 1, -40, 40])\n",
    "plt.axis('auto')\n",
    "plt.plot(x, np.transpose(potential))\n",
    "plt.show()"
   ]
  },
  {
   "cell_type": "code",
   "execution_count": null,
   "metadata": {},
   "outputs": [],
   "source": []
  }
 ],
 "metadata": {
  "accelerator": "GPU",
  "colab": {
   "collapsed_sections": [],
   "name": "1b_recreate_dataset.ipynb",
   "provenance": []
  },
  "kernelspec": {
   "display_name": "Python 3 (ipykernel)",
   "language": "python",
   "name": "python3"
  },
  "language_info": {
   "codemirror_mode": {
    "name": "ipython",
    "version": 3
   },
   "file_extension": ".py",
   "mimetype": "text/x-python",
   "name": "python",
   "nbconvert_exporter": "python",
   "pygments_lexer": "ipython3",
   "version": "3.9.2"
  }
 },
 "nbformat": 4,
 "nbformat_minor": 4
}
