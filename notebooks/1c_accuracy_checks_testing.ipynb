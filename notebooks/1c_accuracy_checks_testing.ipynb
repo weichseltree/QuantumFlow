{
 "cells": [
  {
   "cell_type": "code",
   "execution_count": null,
   "metadata": {},
   "outputs": [],
   "source": [
    "notebook_path = \"Projects/QuantumFlow/notebooks\"\n",
    "try:\n",
    "    import os\n",
    "    from google.colab import drive\n",
    "    drive.mount('/content/gdrive')\n",
    "    os.chdir(\"/content/gdrive/My Drive/\" + notebook_path)\n",
    "except:\n",
    "    pass\n",
    "\n",
    "import tensorflow as tf\n",
    "import numpy as np\n",
    "import matplotlib.pyplot as plt\n",
    "import pickle\n",
    "import os\n",
    "%matplotlib inline\n",
    "\n",
    "import ipywidgets as widgets\n",
    "from IPython.display import display\n",
    "\n",
    "import sys\n",
    "sys.path.append('../')\n",
    "\n",
    "from quantumflow.calculus_utils import integrate, integrate_simpson, laplace\n",
    "from quantumflow.colab_train_utils import load_hyperparameters, test_colab_devices, unpack_dataset"
   ]
  },
  {
   "cell_type": "code",
   "execution_count": null,
   "metadata": {},
   "outputs": [],
   "source": [
    "data_dir = \"../data\"\n",
    "experiment = 'recreate'\n",
    "run_name = 'fine'\n",
    "base_dir = os.path.join(data_dir, experiment)\n",
    "\n",
    "if not os.path.exists(os.path.join(data_dir, experiment)): os.makedirs(os.path.join(data_dir, experiment))\n",
    "file_hyperparams = os.path.join(data_dir, experiment, \"hyperparams.config\")"
   ]
  },
  {
   "cell_type": "code",
   "execution_count": null,
   "metadata": {},
   "outputs": [],
   "source": [
    "datadir = \"../data\"\n",
    "dataset = \"recreate\"\n",
    "dataset_fine_10 = \"recreate/fine_10\"\n",
    "\n",
    "N = 1\n",
    "    \n",
    "with open(os.path.join(datadir, dataset, 'dataset_training.pkl'), 'rb') as f:\n",
    "    np_x, np_potentials, np_wavefunctions, np_energies, np_densities, np_kenergies, M, G, h = unpack_dataset(N, pickle.load(f))\n",
    "    \n",
    "with open(os.path.join(datadir, dataset_fine_10, 'dataset_training.pkl'), 'rb') as f:\n",
    "    np_x_fine, np_potentials_fine, np_wavefunctions_fine, np_energies_fine, np_densities_fine, np_kenergies_fine, M_fine, G_fine, h_fine = unpack_dataset(N, pickle.load(f))\n",
    "\n",
    "print(\"Dataset:\", dataset)\n",
    "print(\"unpacked with N =\", N)\n",
    "print(\"dataset size M:\", M)\n",
    "print(\"discretiation points G:\", G)\n",
    "\n",
    "print(\"\\nDataset Fine:\", dataset_fine)\n",
    "print(\"unpacked with N =\", N)\n",
    "print(\"dataset size M:\", M_fine)\n",
    "print(\"discretiation points G:\", G_fine)\n"
   ]
  },
  {
   "cell_type": "code",
   "execution_count": null,
   "metadata": {},
   "outputs": [],
   "source": [
    "plt.figure(figsize=(20, 4))\n",
    "plt.plot(np_x, np.transpose(np_potentials)[:, :5])\n",
    "plt.title('Potential V')\n",
    "plt.show()\n",
    "\n",
    "plt.figure(figsize=(20, 4))\n",
    "for i, np_plot in enumerate(np_densities[:5]):\n",
    "    plt.plot(np_x, np_plot, 'C' + str(i%10))\n",
    "plt.title('Total Density N=' + str(N))\n",
    "plt.show()"
   ]
  },
  {
   "cell_type": "code",
   "execution_count": null,
   "metadata": {},
   "outputs": [],
   "source": [
    "print(\"discretisation coarse: G =\", np_x.shape, np_x[0:2])\n",
    "print(\"discretisation fine: G =\", np_x_fine.shape, np_x_fine[0:11])\n",
    "print(\"x discretization difference error: \", np.mean(np.abs(np_x_fine[0::10] - np_x)))"
   ]
  },
  {
   "cell_type": "code",
   "execution_count": null,
   "metadata": {},
   "outputs": [],
   "source": [
    "plt.figure(figsize=(20, 8))\n",
    "plt.plot(np_x, np.transpose(np_potentials - np_potentials_fine[:, 0::10])[:, :5])\n",
    "plt.title('Potential V (difference with 10x smaller h)')\n",
    "plt.show()\n",
    "\n",
    "plt.figure(figsize=(20, 8))\n",
    "for i, np_density_group in enumerate((np_densities  - np_densities_fine[:, 0::10])[:5]):\n",
    "    plt.plot(np_x, np_density_group, 'C' + str(i%10))\n",
    "plt.title('Total Density N=' + str(N) + '( difference with 10x smaller h)')\n",
    "plt.show()\n",
    "\n",
    "plt.figure(figsize=(20, 8))\n",
    "plt.plot(np_x, np_densities[0], 'C0')\n",
    "plt.plot(np_x_fine, np_densities_fine[0], 'C0')\n",
    "#np_kinetic_fine[:, 0::10, :]\n",
    "plt.title('Density Coarse/Fine plotted side by side zoom')\n",
    "plt.xlim([0.0, 0.05])\n",
    "plt.ylim([0, 0.05])\n",
    "plt.show()\n",
    "\n"
   ]
  },
  {
   "cell_type": "code",
   "execution_count": null,
   "metadata": {},
   "outputs": [],
   "source": [
    "plt.figure(figsize=(20, 8))\n",
    "plt.hist((np_kenergies - np_kenergies_fine).flatten())\n",
    "plt.title('Histogram of errors of T_j,N')"
   ]
  },
  {
   "cell_type": "code",
   "execution_count": null,
   "metadata": {},
   "outputs": [],
   "source": [
    "print('min', np.min(np.abs(np_kenergies - np_kenergies_fine)), 'hartree')\n",
    "print('mean', np.mean(np.abs(np_kenergies - np_kenergies_fine)), 'hartree')\n",
    "print('max', np.max(np.abs(np_kenergies - np_kenergies_fine)), 'hartree')\n",
    "\n",
    "kcalmol_per_hartree = 627.51\n",
    "\n",
    "print()\n",
    "print('min', np.min(np.abs(np_kenergies - np_kenergies_fine))*kcalmol_per_hartree, 'kcal/mol')\n",
    "print('mean', np.mean(np.abs(np_kenergies - np_kenergies_fine))*kcalmol_per_hartree, 'kcal/mol')\n",
    "print('max', np.max(np.abs(np_kenergies - np_kenergies_fine))*kcalmol_per_hartree, 'kcal/mol')"
   ]
  },
  {
   "cell_type": "code",
   "execution_count": null,
   "metadata": {},
   "outputs": [],
   "source": [
    "print('min', np.min(np.abs(np_energies - np_energies_fine)))\n",
    "print('mean', np.mean(np.abs(np_energies - np_energies_fine)))\n",
    "print('max', np.max(np.abs(np_energies - np_energies_fine)))"
   ]
  },
  {
   "cell_type": "markdown",
   "metadata": {},
   "source": [
    "## Error of the kinetic energy in the range of 10^-6\n",
    "## Error of the total energy is in the range of 10^-7\n",
    "### Calculating the kinetic energy from the wavefunctions results in large errors"
   ]
  }
 ],
 "metadata": {
  "accelerator": "GPU",
  "colab": {
   "collapsed_sections": [],
   "name": "1_accuracy_checks_testing.ipynb",
   "provenance": [],
   "version": "0.3.2"
  },
  "kernelspec": {
   "display_name": "Python 3",
   "language": "python",
   "name": "python3"
  },
  "language_info": {
   "codemirror_mode": {
    "name": "ipython",
    "version": 3
   },
   "file_extension": ".py",
   "mimetype": "text/x-python",
   "name": "python",
   "nbconvert_exporter": "python",
   "pygments_lexer": "ipython3",
   "version": "3.6.8"
  }
 },
 "nbformat": 4,
 "nbformat_minor": 1
}
