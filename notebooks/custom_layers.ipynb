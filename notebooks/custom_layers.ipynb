{
 "cells": [
  {
   "cell_type": "code",
   "execution_count": null,
   "id": "c1466dab-0e1e-41e1-a6d9-803419f60d9d",
   "metadata": {},
   "outputs": [],
   "source": [
    "import os\n",
    "import sys\n",
    "import logging\n",
    "os.environ['TF_CPP_MIN_LOG_LEVEL'] = '3'  # FATAL\n",
    "logging.getLogger('tensorflow').setLevel(logging.DEBUG)\n",
    "\n",
    "try:\n",
    "    from google.colab import drive\n",
    "    drive.mount('/content/drive')\n",
    "    !pip install -q ruamel.yaml\n",
    "    !pip install -q tensorboard-plugin-profile\n",
    "    %load_ext tensorboard\n",
    "    project_path = '/content/drive/MyDrive/Colab Projects/QuantumFlow'\n",
    "except:\n",
    "    project_path = os.path.expanduser('~/QuantumFlow')"
   ]
  },
  {
   "cell_type": "code",
   "execution_count": null,
   "id": "c91bf598-e136-466b-8cbe-da3cba66f4c1",
   "metadata": {},
   "outputs": [],
   "source": [
    "os.chdir(project_path)\n",
    "sys.path.append(project_path)\n",
    "if not os.path.exists('experiments'): os.makedirs('experiments')\n",
    "\n",
    "import tensorflow as tf\n",
    "import numpy as np\n",
    "\n",
    "import quantumflow\n",
    "import quantumflow.noninteracting_1d"
   ]
  },
  {
   "cell_type": "code",
   "execution_count": null,
   "id": "28146206-55bc-4937-9b5e-ccafde28b148",
   "metadata": {},
   "outputs": [],
   "source": [
    "multiplier = quantumflow.noninteracting_1d.resnet.MultiplierLayer(scale_init=2.0)\n",
    "test_input = np.random.randn(1, 10, 30, 4)\n",
    "\n",
    "multiplier.build(test_input.shape)\n",
    "print(np.std(test_input))\n",
    "print(np.std(multiplier(test_input)))\n",
    "\n",
    "multiplier.scale.assign([0, 1, 2, 3])\n",
    "print(np.std(multiplier(test_input).numpy().reshape(-1, 4), axis=0))"
   ]
  },
  {
   "cell_type": "code",
   "execution_count": null,
   "id": "0f795b66-f928-4229-9504-ad78fbe92162",
   "metadata": {},
   "outputs": [],
   "source": [
    "multiplier = quantumflow.noninteracting_1d.resnet.BiasLayer(bias_init=2.0)\n",
    "test_input = np.random.randn(1, 10, 30, 4)\n",
    "\n",
    "multiplier.build(test_input.shape)\n",
    "print(np.mean(test_input))\n",
    "print(np.mean(multiplier(test_input)))\n",
    "\n",
    "multiplier.bias.assign([0, 1, 2, 3])\n",
    "print(np.mean(multiplier(test_input).numpy().reshape(-1, 4), axis=0))"
   ]
  },
  {
   "cell_type": "code",
   "execution_count": null,
   "id": "f5abbe7f-6c44-4b3e-bead-37ead849c152",
   "metadata": {},
   "outputs": [],
   "source": []
  }
 ],
 "metadata": {
  "kernelspec": {
   "display_name": "Python 3 (ipykernel)",
   "language": "python",
   "name": "python3"
  },
  "language_info": {
   "codemirror_mode": {
    "name": "ipython",
    "version": 3
   },
   "file_extension": ".py",
   "mimetype": "text/x-python",
   "name": "python",
   "nbconvert_exporter": "python",
   "pygments_lexer": "ipython3",
   "version": "3.8.10"
  }
 },
 "nbformat": 4,
 "nbformat_minor": 5
}
