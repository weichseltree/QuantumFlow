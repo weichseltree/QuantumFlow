{
 "cells": [
  {
   "cell_type": "code",
   "execution_count": null,
   "id": "f874636d-1171-4cc2-a781-58d64654a139",
   "metadata": {},
   "outputs": [],
   "source": [
    "import os\n",
    "import sys\n",
    "import logging\n",
    "os.environ['TF_CPP_MIN_LOG_LEVEL'] = '3'  # FATAL\n",
    "logging.getLogger('tensorflow').setLevel(logging.DEBUG)\n",
    "\n",
    "try:\n",
    "    from google.colab import drive\n",
    "    drive.mount('/content/drive')\n",
    "    !pip install -q ruamel.yaml\n",
    "    !pip install -q tensorboard-plugin-profile\n",
    "    project_path = '/content/drive/MyDrive/Colab Projects/quantumflow'\n",
    "except:\n",
    "    project_path = os.path.expanduser('~/quantumflow')"
   ]
  },
  {
   "cell_type": "code",
   "execution_count": null,
   "id": "1a2371d6-46da-4663-9ce3-76bdb85b691a",
   "metadata": {},
   "outputs": [],
   "source": [
    "os.chdir(project_path)\n",
    "sys.path.append(project_path)\n",
    "\n",
    "import numpy as np\n",
    "import tensorflow as tf\n",
    "\n",
    "import matplotlib\n",
    "import matplotlib.pyplot as plt\n",
    "%matplotlib inline\n",
    "\n",
    "import quantumflow\n",
    "\n",
    "experiment = 'alghadeer_2021'\n",
    "run_name = 'recreate'\n",
    "\n",
    "base_dir = os.path.join(project_path, \"experiments\", experiment)\n",
    "params = quantumflow.utils.load_yaml(os.path.join(base_dir, f'{experiment}.yaml'))[run_name]\n",
    "run_dir = os.path.join(base_dir, run_name)"
   ]
  },
  {
   "cell_type": "code",
   "execution_count": null,
   "id": "8774e8a0-7e59-4e5f-9c09-6306b7f85c53",
   "metadata": {},
   "outputs": [],
   "source": [
    "dataset_train = quantumflow.instantiate(params['dataset_train'], run_dir=run_dir)\n",
    "dataset_train.build()\n",
    "\n",
    "dataset_validate = quantumflow.instantiate(params['dataset_validate'], run_dir=run_dir)\n",
    "dataset_validate.build()\n",
    "\n",
    "dataset_train.visualize()"
   ]
  },
  {
   "cell_type": "code",
   "execution_count": null,
   "id": "c3885217-cd3c-4d78-b7f9-60a946b62af2",
   "metadata": {},
   "outputs": [],
   "source": [
    "training_indices = np.random.choice(dataset_train.density.shape[0], 1000, replace=False)\n",
    "density = dataset_train.density[training_indices, :]\n",
    "kinetic_energy = dataset_train.kinetic_energy[training_indices]"
   ]
  },
  {
   "cell_type": "code",
   "execution_count": null,
   "id": "f6bacf3b-e523-41aa-b1f1-1bb7fddf1e92",
   "metadata": {},
   "outputs": [],
   "source": [
    "plt.figure(figsize=(20, 3))\n",
    "plt.plot(dataset_train.x, density[:50, :].transpose())\n",
    "plt.title(f\"Random N, 1000 Training densities\")\n",
    "plt.show()"
   ]
  },
  {
   "cell_type": "code",
   "execution_count": null,
   "id": "a0550de5-7d4a-4b6c-8710-31ca08085bbe",
   "metadata": {},
   "outputs": [],
   "source": [
    "def get_alghadeer_features(density, h, r_d=1.0):\n",
    "\n",
    "    density_dx = quantumflow.utils.derivative_five_point(density, h).numpy()\n",
    "\n",
    "    with np.errstate(divide='ignore'):\n",
    "        vW = density_dx**2/density\n",
    "        vW[:, 0] = vW[:, 1]\n",
    "        vW[:, -1] = vW[:, -2]\n",
    "\n",
    "    features = np.stack([\n",
    "        quantumflow.utils.np_integrate(density**3, h),\n",
    "        quantumflow.utils.np_integrate(density*np.abs(density_dx), h),\n",
    "        quantumflow.utils.np_integrate(vW, h),\n",
    "        quantumflow.utils.np_integrate(1/r_d*density**2, h),\n",
    "        quantumflow.utils.np_integrate(1/r_d*np.abs(density_dx), h),\n",
    "        quantumflow.utils.np_integrate(1/r_d**2*density, h),\n",
    "        #np.ones(len(density))\n",
    "    ], axis=-1)\n",
    "    \n",
    "    return features\n"
   ]
  },
  {
   "cell_type": "code",
   "execution_count": null,
   "id": "aa32981e-8e09-403f-ad9c-379abc445dfb",
   "metadata": {},
   "outputs": [],
   "source": [
    "a = np.zeros(6)\n",
    "\n",
    "a[0] = 0.4265802\n",
    "a[1] = -0.197950333\n",
    "a[2] = 0.10816284\n",
    "a[3] = -0.006022615\n",
    "a[4] = -0.158677969\n",
    "a[5] = 0.05333859\n",
    "\n",
    "errs = []\n",
    "r_ds = np.logspace(-2, 2, 100)\n",
    "for r_d in r_ds:\n",
    "    pred = np.matmul(a, get_alghadeer_features(dataset_validate.density, dataset_validate.h, r_d).transpose())\n",
    "    err = np.mean(np.abs(pred - dataset_validate.kinetic_energy))/np.mean(kinetic_energy)*1000\n",
    "    errs.append(err)\n",
    "    \n",
    "plt.figure(figsize=(20, 4))\n",
    "plt.plot(r_ds, errs)\n",
    "plt.xscale('log')\n",
    "plt.show()\n",
    "\n",
    "r_d = r_ds[np.argmin(errs)]"
   ]
  },
  {
   "cell_type": "code",
   "execution_count": null,
   "id": "7bfd0de0-115f-4cbf-a372-dcfc0b1055e0",
   "metadata": {},
   "outputs": [],
   "source": [
    "features = get_alghadeer_features(density, dataset_train.h, r_d)\n",
    "a, w_0, _, _ = np.linalg.lstsq(features, kinetic_energy, rcond=None)\n",
    "a"
   ]
  },
  {
   "cell_type": "code",
   "execution_count": null,
   "id": "39c91e29-36c1-48e4-ae91-250e1ab098a1",
   "metadata": {},
   "outputs": [],
   "source": [
    "pred = np.matmul(a, get_alghadeer_features(dataset_validate.density, dataset_validate.h, r_d).transpose())"
   ]
  },
  {
   "cell_type": "code",
   "execution_count": null,
   "id": "afcdc67a-fb58-4f24-b8bd-767dc73a2fb1",
   "metadata": {},
   "outputs": [],
   "source": [
    "cuts = [0, 15, 50, 100, 200, 300]\n",
    "fig = plt.figure(figsize=(12, 12))\n",
    "for i, (low, high) in enumerate(zip(cuts[:-1], cuts[1:])):\n",
    "    ax = fig.add_subplot(5, 5, 21 - i*4)\n",
    "    indices = np.logical_and(low < dataset_validate.kinetic_energy, dataset_validate.kinetic_energy < high)\n",
    "    ax.scatter(dataset_validate.kinetic_energy[indices], dataset_validate.kinetic_energy[indices], s=1, c='k')\n",
    "    ax.scatter(dataset_validate.kinetic_energy[indices], pred[indices], alpha=0.05)\n",
    "    ax.set_aspect('equal', 'box')\n",
    "    [s.set_visible(False) for s in ax.spines.values()]\n",
    "plt.show()"
   ]
  },
  {
   "cell_type": "code",
   "execution_count": null,
   "id": "0b239a0a-36d0-41a0-9203-7ad4a4581484",
   "metadata": {},
   "outputs": [],
   "source": [
    "pred_train = np.matmul(a, features.transpose())\n",
    "print(np.mean(np.abs(pred_train - kinetic_energy)/np.mean(kinetic_energy))*1000)\n",
    "print(np.std(np.abs(pred_train - kinetic_energy)/np.mean(kinetic_energy))*1000)\n",
    "print(np.max(np.abs(pred_train - kinetic_energy)/np.mean(kinetic_energy))*1000)"
   ]
  },
  {
   "cell_type": "code",
   "execution_count": null,
   "id": "0d1e867c-91cd-470e-ba70-50814298a99d",
   "metadata": {},
   "outputs": [],
   "source": [
    "print(np.mean(np.abs(pred - dataset_validate.kinetic_energy)/dataset_validate.kinetic_energy)*1000)\n",
    "print(np.std(np.abs(pred - dataset_validate.kinetic_energy)/dataset_validate.kinetic_energy)*1000)\n",
    "print(np.max(np.abs(pred - dataset_validate.kinetic_energy)/dataset_validate.kinetic_energy)*1000)"
   ]
  },
  {
   "cell_type": "code",
   "execution_count": null,
   "id": "69585c0f-6e1c-4140-a9ec-54ac8ed53adb",
   "metadata": {},
   "outputs": [],
   "source": [
    "kcalmol_per_hartree = 627.51\n",
    "print(np.mean(np.abs(pred - dataset_validate.kinetic_energy))*kcalmol_per_hartree)\n",
    "print(np.std(np.abs(pred - dataset_validate.kinetic_energy))*kcalmol_per_hartree)\n",
    "print(np.max(np.abs(pred - dataset_validate.kinetic_energy))*kcalmol_per_hartree)"
   ]
  },
  {
   "cell_type": "code",
   "execution_count": null,
   "id": "0cb3eec3-6567-4804-be46-952a8265faca",
   "metadata": {},
   "outputs": [],
   "source": []
  }
 ],
 "metadata": {
  "kernelspec": {
   "display_name": "Python 3 (ipykernel)",
   "language": "python",
   "name": "python3"
  },
  "language_info": {
   "codemirror_mode": {
    "name": "ipython",
    "version": 3
   },
   "file_extension": ".py",
   "mimetype": "text/x-python",
   "name": "python",
   "nbconvert_exporter": "python",
   "pygments_lexer": "ipython3",
   "version": "3.8.10"
  }
 },
 "nbformat": 4,
 "nbformat_minor": 5
}
