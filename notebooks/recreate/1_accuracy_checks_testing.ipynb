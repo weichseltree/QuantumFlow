{
 "cells": [
  {
   "cell_type": "code",
   "execution_count": null,
   "metadata": {},
   "outputs": [],
   "source": [
    "import tensorflow as tf\n",
    "import numpy as np\n",
    "import matplotlib.pyplot as plt\n",
    "import pickle\n",
    "import os\n",
    "%matplotlib inline\n",
    "\n",
    "try:\n",
    "    from google.colab import drive\n",
    "    drive.mount('/content/gdrive')\n",
    "    os.chdir(\"/content/gdrive/My Drive/Projects/QuantumFlow/notebooks/recreate\")\n",
    "except:\n",
    "    pass\n",
    "\n",
    "if tf.test.gpu_device_name() == '/device:GPU:0':\n",
    "    print('Found GPU')\n",
    "\n",
    "import ipywidgets as widgets\n",
    "from IPython.display import Audio, HTML, display"
   ]
  },
  {
   "cell_type": "code",
   "execution_count": null,
   "metadata": {},
   "outputs": [],
   "source": [
    "import sys\n",
    "sys.path.append('../../')\n",
    "\n",
    "from quantumflow.calculus_utils import integrate, integrate_simpson, laplace\n",
    "from quantumflow.numerov_solver import unpack_dataset\n"
   ]
  },
  {
   "cell_type": "code",
   "execution_count": null,
   "metadata": {},
   "outputs": [],
   "source": [
    "datadir = \"../../data\"\n",
    "dataset = \"recreate_paper\"\n",
    "dataset_fine = \"recreate_paper_fine\"\n",
    "\n",
    "N = 4\n",
    "    \n",
    "with open(os.path.join(datadir, dataset, 'dataset_training.pkl'), 'rb') as f:\n",
    "    np_x, np_potentials, np_wavefunctions, np_energies, np_densities, np_kenergies, M, G, h = unpack_dataset(N, pickle.load(f))\n",
    "    \n",
    "with open(os.path.join(datadir, dataset_fine, 'dataset_training.pkl'), 'rb') as f:\n",
    "    np_x_fine, np_potentials_fine, np_wavefunctions_fine, np_energies_fine, np_densities_fine, np_kenergies_fine, M_fine, G_fine, h_fine = unpack_dataset(N, pickle.load(f))\n",
    "\n",
    "print(\"Dataset:\", dataset)\n",
    "print(\"unpacked with N =\", N)\n",
    "print(\"dataset size M:\", M)\n",
    "print(\"discretiation points G:\", G)\n",
    "\n",
    "print(\"\\nDataset Fine:\", dataset_fine)\n",
    "print(\"unpacked with N =\", N)\n",
    "print(\"dataset size M:\", M_fine)\n",
    "print(\"discretiation points G:\", G_fine)\n"
   ]
  },
  {
   "cell_type": "code",
   "execution_count": null,
   "metadata": {},
   "outputs": [],
   "source": [
    "plt.figure(figsize=(20, 4))\n",
    "plt.plot(np_x, np.transpose(np_potentials)[:, :5])\n",
    "plt.title('Potential V')\n",
    "plt.show()\n",
    "\n",
    "plt.figure(figsize=(20, 4))\n",
    "for i, np_plot in enumerate(np_densities[:5]):\n",
    "    plt.plot(np_x, np_plot, 'C' + str(i%10))\n",
    "plt.title('Total Density N=' + str(N))\n",
    "plt.show()"
   ]
  },
  {
   "cell_type": "code",
   "execution_count": null,
   "metadata": {},
   "outputs": [],
   "source": [
    "print(\"discretisation coarse: G =\", np_x.shape, np_x[0:2])\n",
    "print(\"discretisation fine: G =\", np_x_fine.shape, np_x_fine[0:11])\n",
    "print(\"x discretization difference error: \", np.mean(np.abs(np_x_fine[0::10] - np_x)))"
   ]
  },
  {
   "cell_type": "code",
   "execution_count": null,
   "metadata": {},
   "outputs": [],
   "source": [
    "plt.figure(figsize=(20, 8))\n",
    "plt.plot(np_x, np.transpose(np_potentials - np_potentials_fine[:, 0::10])[:, :5])\n",
    "plt.title('Potential V (difference with 10x smaller h)')\n",
    "plt.show()\n",
    "\n",
    "plt.figure(figsize=(20, 8))\n",
    "for i, np_density_group in enumerate((np_densities  - np_densities_fine[:, 0::10])[:5]):\n",
    "    plt.plot(np_x, np_density_group, 'C' + str(i%10))\n",
    "plt.title('Total Density N=' + str(N) + '( difference with 10x smaller h)')\n",
    "plt.show()\n",
    "\n",
    "plt.figure(figsize=(20, 8))\n",
    "plt.plot(np_x, np_densities[0], 'C0')\n",
    "plt.plot(np_x_fine, np_densities_fine[0], 'C0')\n",
    "#np_kinetic_fine[:, 0::10, :]\n",
    "plt.title('Density Coarse/Fine plotted side by side zoom')\n",
    "plt.xlim([0.0, 0.05])\n",
    "plt.ylim([0, 0.05])\n",
    "plt.show()\n",
    "\n"
   ]
  },
  {
   "cell_type": "code",
   "execution_count": null,
   "metadata": {},
   "outputs": [],
   "source": [
    "plt.figure(figsize=(20, 8))\n",
    "plt.hist((np_kenergies - np_kenergies_fine).flatten())\n",
    "plt.title('Histogram of errors of T_j,N')"
   ]
  },
  {
   "cell_type": "code",
   "execution_count": null,
   "metadata": {},
   "outputs": [],
   "source": [
    "print('min', np.min(np.abs(np_kenergies - np_kenergies_fine)))\n",
    "print('mean', np.mean(np.abs(np_kenergies - np_kenergies_fine)))\n",
    "print('max', np.max(np.abs(np_kenergies - np_kenergies_fine)))"
   ]
  },
  {
   "cell_type": "code",
   "execution_count": null,
   "metadata": {},
   "outputs": [],
   "source": [
    "print('min', np.min(np.abs(np_energies - np_energies_fine)))\n",
    "print('mean', np.mean(np.abs(np_energies - np_energies_fine)))\n",
    "print('max', np.max(np.abs(np_energies - np_energies_fine)))"
   ]
  },
  {
   "cell_type": "markdown",
   "metadata": {},
   "source": [
    "## Error of the kinetic energy in the range of 10^-6\n",
    "## Error of the total energy is in the range of 10^-7\n",
    "### Calculating the kinetic energy from the wavefunctions results in large errors"
   ]
  },
  {
   "cell_type": "markdown",
   "metadata": {},
   "source": [
    "# Plots"
   ]
  },
  {
   "cell_type": "code",
   "execution_count": null,
   "metadata": {},
   "outputs": [],
   "source": [
    "datadir = \"../../data\"\n",
    "dataset = \"recreate\"\n",
    "\n",
    "N = 1\n",
    "    \n",
    "with open(os.path.join(datadir, dataset, 'dataset_training.pkl'), 'rb') as f:\n",
    "    np_x, np_potentials, np_wavefunctions, np_energies, np_densities, np_kenergies, M, G, h = unpack_dataset(N, pickle.load(f))\n",
    "   \n",
    "with open(os.path.join(datadir, 'recreate_paper', 'dataset_sample.pkl'), 'rb') as f:\n",
    "    _, _, _, _, np_sample_density, _, _, _, _ = unpack_dataset(N, pickle.load(f))\n",
    "    \n",
    "\n",
    "plt.figure(figsize=(6, 4), dpi=200)\n",
    "plt.fill_between(np_x, np.min(np_wavefunctions[:, :, 0]**2, axis=0), \n",
    "                       np.max(np_wavefunctions[:, :, 0]**2, axis=0), facecolor='0.9')\n",
    "\n",
    "plt.plot(np_x, np.transpose(np_sample_density[0]), 'r') # TODO: plot an exact solution?\n",
    "plt.plot(np_x, np.transpose(np_sample_density[0]), '--k') # TODO: plot a self-consistent density?\n",
    "\n",
    "plt.title('Density Variation for N='+str(N))\n",
    "plt.xlim([0, 1])\n",
    "plt.ylim([0, 3.2])\n",
    "plt.xlabel('x')\n",
    "plt.ylabel('$n(x)$')\n",
    "plt.show()"
   ]
  },
  {
   "cell_type": "code",
   "execution_count": null,
   "metadata": {},
   "outputs": [],
   "source": [
    "np.mean(np_kenergies.flatten()) # mean value of kinetic energy of N=1"
   ]
  },
  {
   "cell_type": "code",
   "execution_count": null,
   "metadata": {},
   "outputs": [],
   "source": []
  }
 ],
 "metadata": {
  "accelerator": "GPU",
  "colab": {
   "collapsed_sections": [],
   "name": "1_accuracy_checks_testing.ipynb",
   "provenance": [],
   "version": "0.3.2"
  },
  "kernelspec": {
   "display_name": "Python 3",
   "name": "python3"
  }
 },
 "nbformat": 4,
 "nbformat_minor": 0
}
