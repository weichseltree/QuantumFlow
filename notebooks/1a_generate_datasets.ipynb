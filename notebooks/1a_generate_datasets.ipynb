{
 "cells": [
  {
   "cell_type": "markdown",
   "metadata": {},
   "source": [
    "### Generate M random potentials on [0, L] as sum of n gaussian kernels on G discretization points\n",
    "\n",
    "\n",
    "there are 3 uniformly distributed random parameters a, b, c\n",
    "the potential is calculated by:\n",
    "\n",
    "$$\n",
    "V(x) = -\\sum_{n=1}^{3} a_n \\exp \\left(-\\frac{(x - b_n)^2}{2c_n^2} \\right)\n",
    "$$\n",
    "\n",
    "### Then solve the schroedinger equation in atomic units for 4 spinless non-interacting fermions.\n",
    "\n",
    "The shooting numerov algorithm calculates a forward pass and a backward pass solution.\n",
    "\n",
    "The final solution is then found by aligning the two passes and finding a good split point to concatenate them.\n",
    "\n",
    "All integrals are approximated by the trapezoidal method.\n",
    "The numerical differentiation for the laplacian uses the standard approximation.\n",
    "\n",
    "### Usage:\n",
    "\n",
    "Setting the dataset variable to different values will allow generating all the variations of the datasets:\n",
    "standard, recreate, recreate/fine_0.125, ..., recreate/fine_10\n"
   ]
  },
  {
   "cell_type": "code",
   "execution_count": null,
   "metadata": {},
   "outputs": [],
   "source": [
    "notebook_path = \"Projects/QuantumFlow/notebooks\"\n",
    "try:\n",
    "    import os\n",
    "    from google.colab import drive\n",
    "    drive.mount('/content/gdrive')\n",
    "    os.chdir(\"/content/gdrive/My Drive/\" + notebook_path)\n",
    "except:\n",
    "    pass\n",
    "\n",
    "%tensorflow_version 2.x\n",
    "import tensorflow as tf\n",
    "import numpy as np\n",
    "import matplotlib.pyplot as plt\n",
    "%matplotlib inline\n",
    "\n",
    "import ipywidgets as widgets\n",
    "from IPython.display import display\n",
    "\n",
    "import sys\n",
    "sys.path.append('../')\n",
    "\n",
    "from quantumflow.generate_datasets import generate_potentials, generate_datasets\n",
    "from quantumflow.colab_utils import test_colab_devices\n",
    "\n",
    "has_gpu, has_tpu = test_colab_devices()\n",
    "if has_gpu: print(\"Found GPU\")\n",
    "if has_tpu: print(\"Found TPU\")\n",
    "\n",
    "!pip install -q ruamel.yaml\n",
    "data_dir = \"../data\""
   ]
  },
  {
   "cell_type": "markdown",
   "metadata": {},
   "source": [
    "## Recreate"
   ]
  },
  {
   "cell_type": "code",
   "execution_count": null,
   "metadata": {},
   "outputs": [],
   "source": [
    "experiment = \"recreate\"\n",
    "base_dir = os.path.join(data_dir, experiment)\n",
    "if not os.path.exists(base_dir): os.makedirs(base_dir)\n",
    "file_hyperparams = os.path.join(base_dir, \"hyperparams.config\")"
   ]
  },
  {
   "cell_type": "code",
   "execution_count": null,
   "metadata": {},
   "outputs": [],
   "source": [
    "%%writefile $file_hyperparams\n",
    "globals: []\n",
    "\n",
    "train: &DEFAULT\n",
    "    filename: dataset_train\n",
    "    seed: 0\n",
    "    n_orbitals: 4 # N\n",
    "    dataset_size: 100 # M\n",
    "\n",
    "    discretisation_points: 500 # G\n",
    "    interval_length: 1.0 # [Bohr]\n",
    "    n_gauss: 3 # number of gaussians \n",
    "    n_method: sum # sum or mean the gaussians\n",
    "    a_minmax: [1.0, 10.0] # [hartree] \n",
    "    b_minmax: [0.4, 0.6] # nomalized x\n",
    "    c_minmax: [0.03, 0.1] # nomalized x\n",
    "\n",
    "    dtype: double\n",
    "    numerov_init_slope: 5.0\n",
    "\n",
    "validate:\n",
    "    <<: *DEFAULT\n",
    "    filename: dataset_validate\n",
    "    seed: -1\n",
    "    dataset_size: 800\n",
    "\n",
    "test:\n",
    "    <<: *DEFAULT\n",
    "    filename: dataset_test\n",
    "    seed: -2\n",
    "    dataset_size: 8000\n",
    "\n",
    "fine:\n",
    "    <<: *DEFAULT\n",
    "    filename: dataset_fine\n",
    "    discretisation_points: 4991\n",
    "\n",
    "float:\n",
    "    <<: *DEFAULT\n",
    "    filename: dataset_float\n",
    "    dtype: float"
   ]
  },
  {
   "cell_type": "code",
   "execution_count": null,
   "metadata": {},
   "outputs": [],
   "source": [
    "generate_datasets(data_dir=data_dir, experiment='recreate', generate_names=['train', 'validate', 'test', 'fine', 'float'])"
   ]
  },
  {
   "cell_type": "markdown",
   "metadata": {},
   "source": [
    "##Diverse"
   ]
  },
  {
   "cell_type": "code",
   "execution_count": null,
   "metadata": {},
   "outputs": [],
   "source": [
    "experiment = \"diverse\"\n",
    "base_dir = os.path.join(data_dir, experiment)\n",
    "if not os.path.exists(base_dir): os.makedirs(base_dir)\n",
    "file_hyperparams = os.path.join(base_dir, \"hyperparams.config\")"
   ]
  },
  {
   "cell_type": "code",
   "execution_count": null,
   "metadata": {},
   "outputs": [],
   "source": [
    "%%writefile $file_hyperparams\n",
    "globals: []\n",
    "\n",
    "train: &DEFAULT\n",
    "    filename: dataset_train\n",
    "    seed: 0\n",
    "    n_orbitals: 4\n",
    "    dataset_size: 8000\n",
    "\n",
    "    discretisation_points: 1001\n",
    "    interval_length: 20.0\n",
    "    n_gauss: 5\n",
    "    n_method: mean\n",
    "    a_minmax: [0.0, 50.0]\n",
    "    b_minmax: [0.3, 0.7]\n",
    "    c_minmax: [0.02, 0.06]\n",
    "\n",
    "    dtype: double\n",
    "    numerov_init_slope: 1e-128\n",
    "\n",
    "validate:\n",
    "    <<: *DEFAULT\n",
    "    filename: dataset_validate\n",
    "    seed: -1\n",
    "    dataset_size: 800\n",
    "\n",
    "test:\n",
    "    <<: *DEFAULT\n",
    "    filename: dataset_test\n",
    "    seed: -2\n",
    "\n",
    "fine:\n",
    "    <<: *DEFAULT\n",
    "    filename: dataset_fine\n",
    "    discretisation_points: 4991\n",
    "\n",
    "float:\n",
    "    <<: *DEFAULT\n",
    "    filename: dataset_float\n",
    "    dtype: float\n",
    "    numerov_init_slope: 1e-5"
   ]
  },
  {
   "cell_type": "code",
   "execution_count": null,
   "metadata": {},
   "outputs": [],
   "source": [
    "generate_datasets(data_dir=data_dir, experiment='diverse', generate_names=['train', 'validate', 'test', 'float'])"
   ]
  },
  {
   "cell_type": "code",
   "execution_count": null,
   "metadata": {},
   "outputs": [],
   "source": []
  }
 ],
 "metadata": {
  "accelerator": "GPU",
  "colab": {
   "collapsed_sections": [],
   "name": "1a_generate_datasets.ipynb",
   "provenance": []
  },
  "kernelspec": {
   "display_name": "Python 3",
   "name": "python3"
  }
 },
 "nbformat": 4,
 "nbformat_minor": 0
}
