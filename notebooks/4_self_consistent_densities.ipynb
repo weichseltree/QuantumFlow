{
 "cells": [
  {
   "cell_type": "code",
   "execution_count": null,
   "metadata": {},
   "outputs": [],
   "source": [
    "notebook_path = \"Projects/QuantumFlow/notebooks\"\n",
    "try:\n",
    "    import os\n",
    "    from google.colab import drive\n",
    "    drive.mount('/content/gdrive')\n",
    "    os.chdir(\"/content/gdrive/My Drive/\" + notebook_path)\n",
    "except:\n",
    "    pass\n",
    "\n",
    "%tensorflow_version 2.x\n",
    "!pip install -q ruamel.yaml\n",
    "\n",
    "import tensorflow as tf\n",
    "import numpy as np\n",
    "import matplotlib.pyplot as plt\n",
    "import pickle\n",
    "import os\n",
    "import time\n",
    "%matplotlib inline\n",
    "\n",
    "import ipywidgets as widgets\n",
    "from IPython.display import display\n",
    "\n",
    "import sys\n",
    "sys.path.append('../')\n",
    "\n",
    "from quantumflow.colab_utils import load_hyperparameters, test_colab_devices, get_resolver, QFDataset, integrate\n",
    "\n",
    "has_gpu, has_tpu = test_colab_devices()\n",
    "if has_gpu: print(\"Found GPU\")\n",
    "if has_tpu: print(\"Found TPU\")\n",
    "\n",
    "data_dir = \"../data\""
   ]
  },
  {
   "cell_type": "code",
   "execution_count": null,
   "metadata": {},
   "outputs": [],
   "source": [
    "models = [\n",
    "          #('ke_keras', 'default'),\n",
    "          ('ke_krr', 'default')\n",
    "          ]\n",
    "\n",
    "for model_experiment, model_name in models:\n",
    "    model = tf.saved_model.load(os.path.join(data_dir, model_experiment, model_name))"
   ]
  },
  {
   "cell_type": "code",
   "execution_count": null,
   "metadata": {},
   "outputs": [],
   "source": [
    "dataset_test = QFDataset(os.path.join(data_dir, 'recreate/dataset_test.pkl'), {'N': 1, 'dtype': 'float32', 'features': ['density'], 'targets': ['kinetic_energy']})\n",
    "\n",
    "h = dataset_test.h\n",
    "x = dataset_test.x"
   ]
  },
  {
   "cell_type": "code",
   "execution_count": null,
   "metadata": {},
   "outputs": [],
   "source": []
  }
 ],
 "metadata": {
  "accelerator": "GPU",
  "colab": {
   "collapsed_sections": [],
   "name": "4_self_consistent_densities.ipynb",
   "provenance": []
  },
  "kernelspec": {
   "display_name": "Python 3",
   "name": "python3"
  }
 },
 "nbformat": 4,
 "nbformat_minor": 0
}
