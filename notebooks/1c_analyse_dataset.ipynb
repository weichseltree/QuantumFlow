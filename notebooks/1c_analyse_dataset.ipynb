{
 "cells": [
  {
   "cell_type": "code",
   "execution_count": null,
   "metadata": {},
   "outputs": [],
   "source": [
    "notebook_path = \"Projects/QuantumFlow/notebooks\"\n",
    "try:\n",
    "    import os\n",
    "    from google.colab import drive\n",
    "    drive.mount('/content/gdrive')\n",
    "    os.chdir(\"/content/gdrive/My Drive/\" + notebook_path)\n",
    "except:\n",
    "    pass\n",
    "\n",
    "import tensorflow as tf\n",
    "import numpy as np\n",
    "import matplotlib.pyplot as plt\n",
    "import pickle\n",
    "import os\n",
    "%matplotlib inline\n",
    "\n",
    "tf.enable_eager_execution()\n",
    "\n",
    "import ipywidgets as widgets\n",
    "from IPython.display import display\n",
    "\n",
    "import sys\n",
    "sys.path.append('../')\n",
    "\n",
    "from quantumflow.generate_datasets import generate_potentials\n",
    "from quantumflow.calculus_utils import integrate, laplace, np_integrate\n",
    "from quantumflow.numerov_solver import *\n",
    "from quantumflow.colab_train_utils import load_hyperparameters, test_colab_devices, InputPipeline\n",
    "\n",
    "has_gpu, has_tpu = test_colab_devices()\n",
    "if has_gpu: print(\"Found GPU\")\n",
    "if has_tpu: print(\"Found TPU\")\n",
    "\n",
    "!pip install -q ruamel.yaml\n",
    "data_dir = \"../data\""
   ]
  },
  {
   "cell_type": "markdown",
   "metadata": {},
   "source": [
    "# Algorithm Analysis"
   ]
  },
  {
   "cell_type": "code",
   "execution_count": null,
   "metadata": {},
   "outputs": [],
   "source": [
    "experiment = 'recreate'\n",
    "analyse_name = \"train\"\n",
    "\n",
    "preview = 5\n",
    "analysis_dataset_size = 100\n",
    "figsize = (20, 3)\n",
    "dpi = None\n",
    "\n",
    "params = load_hyperparameters(os.path.join(data_dir, experiment, \"hyperparams.config\"), run_name=analyse_name, globals=globals())\n",
    "\n",
    "params['dataset_size'] = analysis_dataset_size\n",
    "tf.set_random_seed(params['seed'])\n",
    "\n",
    "potential, x, h = generate_potentials(return_x=True, return_h=True, **params)\n",
    "params['h'] = h\n",
    "\n",
    "plt.figure(figsize=figsize, dpi=dpi)\n",
    "plt.plot(x, np.transpose(potential)[:, :preview]) # only plot first potentials\n",
    "plt.title(\"Randomly Generated Potentials\")\n",
    "plt.xlabel(\"x / bohr\")\n",
    "plt.ylabel(\"Energy / hartree\")\n",
    "plt.grid(which='major', axis='y', linestyle='--')\n",
    "plt.show()"
   ]
  },
  {
   "cell_type": "code",
   "execution_count": null,
   "metadata": {},
   "outputs": [],
   "source": [
    "split_energies = find_split_energies(potential, params).numpy()\n",
    "\n",
    "plt.figure(figsize=figsize, dpi=dpi)\n",
    "bins = np.linspace(min(split_energies.flatten()), max(split_energies.flatten()), 100)\n",
    "\n",
    "for i in range(split_energies.shape[1]):\n",
    "    color = i/(split_energies.shape[1] - 1)\n",
    "    plt.hist(split_energies[:, i], bins, alpha=0.7, color=[0.8*color**2, 0.8*(1-color)**2, 1.6*color*(1-color)], label= str(i) + \" roots\")\n",
    "\n",
    "plt.xlabel('split energy / hartree')\n",
    "plt.ylabel('count')\n",
    "plt.legend(loc='upper right')\n",
    "plt.title(\"Energies giving the intervals where there is exactly one eigenvalue\")\n",
    "plt.show()"
   ]
  },
  {
   "cell_type": "code",
   "execution_count": null,
   "metadata": {},
   "outputs": [],
   "source": [
    "energies, wavefunctions = solve_schroedinger(potential, params)\n",
    "\n",
    "fig, axs = plt.subplots(1, preview, figsize=(figsize[0], figsize[1]*2), dpi=dpi)\n",
    "\n",
    "for i, plot in enumerate(wavefunctions.numpy()[:preview]**2 + energies.numpy()[:preview, np.newaxis, :]):\n",
    "    for n, plot_single in enumerate(plot.transpose()):\n",
    "        axs[i].plot(x, potential[i], 'k')\n",
    "        axs[i].plot(x, np.ones(x.shape)*energies[i, n], ':k')\n",
    "        axs[i].plot(x, plot_single, 'C' + str(i%10))\n",
    "        axs[i].set_ylim([np.min(potential.numpy()[:preview]), max(np.max(energies.numpy()[:preview]*1.1), 0.5)])\n",
    "        if i == 0: \n",
    "            axs[i].set_ylabel('energies, potential / hartree')\n",
    "            axs[i].set_xlabel(\"x / bohr\")\n",
    "        else:\n",
    "            axs[i].get_yaxis().set_visible(False)\n",
    "#fig.suptitle('Numerov Solution Energies and Densities')\n",
    "plt.show()"
   ]
  },
  {
   "cell_type": "code",
   "execution_count": null,
   "metadata": {},
   "outputs": [],
   "source": [
    "plt.figure(figsize=figsize, dpi=dpi)\n",
    "for i, plot in enumerate(wavefunctions[:preview]):\n",
    "    plt.plot(x, plot, 'C' + str(i%10))\n",
    "plt.xlim(x.numpy()[[0, -1]])\n",
    "plt.title('Numerov Solutions')\n",
    "plt.show()"
   ]
  },
  {
   "cell_type": "code",
   "execution_count": null,
   "metadata": {},
   "outputs": [],
   "source": [
    "plt.figure(figsize=figsize, dpi=dpi)\n",
    "plt.plot(x, np.transpose(wavefunctions[:, :, 0])[:, :preview]) # only plot first potentials\n",
    "plt.title(\"Wavefunction N = 1\")\n",
    "plt.xlabel(\"x / bohr\")\n",
    "plt.ylabel(\"Energy / hartree\")\n",
    "plt.grid(which='major', axis='y', linestyle='--')\n",
    "plt.show()\n",
    "\n",
    "plt.figure(figsize=figsize, dpi=dpi)\n",
    "plt.plot(x, np.transpose(wavefunctions[:, :, 0]**2)[:, :preview]) # only plot first potentials\n",
    "plt.title(\"Density N = 1\")\n",
    "plt.xlabel(\"x / bohr\")\n",
    "plt.ylabel(\"Energy / hartree\")\n",
    "plt.grid(which='major', axis='y', linestyle='--')\n",
    "plt.show()\n",
    "\n",
    "plt.figure(figsize=figsize, dpi=dpi)\n",
    "plt.plot(x, np.transpose(tf.reduce_sum(wavefunctions**2, axis=2))[:, :preview]) # only plot first potentials\n",
    "plt.title(\"Density N = {}\".format(params['n_orbitals']))\n",
    "plt.xlabel(\"x / bohr\")\n",
    "plt.ylabel(\"Energy / hartree\")\n",
    "plt.grid(which='major', axis='y', linestyle='--')\n",
    "plt.show()"
   ]
  },
  {
   "cell_type": "code",
   "execution_count": null,
   "metadata": {},
   "outputs": [],
   "source": [
    "laplace_wavefunctions = laplace(wavefunctions, params['h'])\n",
    "kinetic_energy_densities = -0.5*wavefunctions*laplace_wavefunctions\n",
    "\n",
    "kinetic_energies = integrate(kinetic_energy_densities, params['h'])"
   ]
  },
  {
   "cell_type": "code",
   "execution_count": null,
   "metadata": {},
   "outputs": [],
   "source": [
    "plt.figure(figsize=figsize, dpi=dpi)\n",
    "plt.plot(x, np.transpose(kinetic_energy_densities[:, :, 0])[:, :preview]) # only plot first potentials\n",
    "plt.title(\"Kinetic Energy Density N = 1\")\n",
    "plt.xlabel(\"x / bohr\")\n",
    "plt.ylabel(\"Energy / hartree\")\n",
    "plt.grid(which='major', axis='y', linestyle='--')\n",
    "plt.show()\n",
    "\n",
    "plt.figure(figsize=figsize, dpi=dpi)\n",
    "plt.plot(x, np.transpose(tf.reduce_sum(kinetic_energy_densities, axis=2))[:, :preview]) # only plot first potentials\n",
    "plt.title(\"Kinetic Energy Density N = {}\".format(params['n_orbitals']))\n",
    "plt.xlabel(\"x / bohr\")\n",
    "plt.ylabel(\"Energy / hartree\")\n",
    "plt.grid(which='major', axis='y', linestyle='--')\n",
    "plt.show()"
   ]
  },
  {
   "cell_type": "code",
   "execution_count": null,
   "metadata": {},
   "outputs": [],
   "source": [
    "potential_energy_densities = tf.expand_dims(potential, axis=2)*wavefunctions**2\n",
    "potential_energies = integrate(potential_energy_densities, params['h'])\n",
    "\n",
    "plt.figure(figsize=figsize, dpi=dpi)\n",
    "plt.plot(x, np.transpose(potential_energy_densities[:, :, 0])[:, :preview]) # only plot first potentials\n",
    "plt.title(\"Potential Energy Density N = 1\")\n",
    "plt.xlabel(\"x / bohr\")\n",
    "plt.ylabel(\"Energy / hartree\")\n",
    "plt.grid(which='major', axis='y', linestyle='--')\n",
    "plt.show()\n",
    "\n",
    "plt.figure(figsize=figsize, dpi=dpi)\n",
    "plt.plot(x, np.transpose(tf.reduce_sum(potential_energy_densities, axis=2))[:, :preview]) # only plot first potentials\n",
    "plt.title(\"Potential Energy Density N = {}\".format(params['n_orbitals']))\n",
    "plt.xlabel(\"x / bohr\")\n",
    "plt.ylabel(\"Energy / hartree\")\n",
    "plt.grid(which='major', axis='y', linestyle='--')\n",
    "plt.show()\n"
   ]
  },
  {
   "cell_type": "code",
   "execution_count": null,
   "metadata": {},
   "outputs": [],
   "source": [
    "kcalmol_per_hartree = 627.51\n",
    "kinetic_energies_indirect = energies - potential_energies\n",
    "\n",
    "print('N=1 energy:                 ', energies[:preview, 0].numpy())\n",
    "print('N=1 potential energy:       ', potential_energies[:preview, 0].numpy())\n",
    "print('N=1 kinetic energy:         ', kinetic_energies[:preview, 0].numpy())\n",
    "print('N=1 kinetic energy indirect:', kinetic_energies_indirect[:preview, 0].numpy())\n",
    "\n",
    "err = np.abs(kinetic_energies - kinetic_energies_indirect).flatten()*kcalmol_per_hartree\n",
    "plt.figure(figsize=figsize, dpi=dpi)\n",
    "plt.hist(err, bins=100)\n",
    "plt.plot([np.mean(err), np.mean(err)], [0, np.sqrt(params['dataset_size']*params['n_orbitals'])], 'r')\n",
    "plt.title(\"N = 1 Kinetic Energy Direct/Indirect Error\")\n",
    "plt.xlabel('error / kcal/mol')\n",
    "plt.show()"
   ]
  },
  {
   "cell_type": "code",
   "execution_count": null,
   "metadata": {},
   "outputs": [],
   "source": [
    "total_energy = tf.reduce_sum(energies, axis=-1)\n",
    "print('total energy:                 ', total_energy[:preview].numpy())\n",
    "\n",
    "potential_energy = tf.reduce_sum(potential_energies, axis=-1)\n",
    "print('total potential energy:       ', potential_energy[:preview].numpy())\n",
    "\n",
    "kinetic_energy = tf.reduce_sum(kinetic_energies, axis=-1)\n",
    "print('total kinetic energy direct:  ', kinetic_energy[:preview].numpy())\n",
    "\n",
    "kinetic_energy_indirect = tf.reduce_sum(kinetic_energies_indirect, axis=-1)\n",
    "print('total kinetic energy indirect:', kinetic_energy_indirect[:preview].numpy())\n",
    "\n",
    "err = np.abs(kinetic_energy - kinetic_energy_indirect).flatten()*kcalmol_per_hartree\n",
    "plt.figure(figsize=figsize, dpi=dpi)\n",
    "plt.hist(err, bins=100)\n",
    "plt.plot([np.mean(err), np.mean(err)], [0, np.sqrt(params['dataset_size'])], 'r')\n",
    "plt.title(\"Total Kinetic Energy Direct/Indirect Error\")\n",
    "plt.xlabel('error / kcal/mol')\n",
    "plt.show()"
   ]
  },
  {
   "cell_type": "markdown",
   "metadata": {},
   "source": [
    "# Dataset Analysis"
   ]
  },
  {
   "cell_type": "code",
   "execution_count": null,
   "metadata": {},
   "outputs": [],
   "source": [
    "experiment = 'recreate'\n",
    "analyse_name = 'train'\n",
    "fine_name = 'fine'\n",
    "\n",
    "N = 1\n",
    "preview = 5\n",
    "figsize = (20, 3)\n",
    "dpi = None\n",
    "\n",
    "params_train = load_hyperparameters(os.path.join(data_dir, experiment, \"hyperparams.config\"), run_name=analyse_name, globals=globals())\n",
    "params_fine = load_hyperparameters(os.path.join(data_dir, experiment, \"hyperparams.config\"), run_name=fine_name, globals=globals())\n",
    "dataset_train = InputPipeline(N, os.path.join(data_dir, experiment, params_train['filename']))\n",
    "dataset_fine = InputPipeline(N, os.path.join(data_dir, experiment, params_fine['filename']))"
   ]
  },
  {
   "cell_type": "code",
   "execution_count": null,
   "metadata": {},
   "outputs": [],
   "source": [
    "kcalmol_per_hartree = 627.51\n",
    "err = np.abs(dataset_train.energies - dataset_fine.energies).flatten()*kcalmol_per_hartree\n",
    "plt.figure(figsize=figsize, dpi=dpi)\n",
    "plt.hist(err, bins=100)\n",
    "plt.plot([np.mean(err), np.mean(err)], [0, np.sqrt(dataset_train.dataset_size)], 'r')\n",
    "plt.title(\"Total Energy Discretisation Error\")\n",
    "plt.xlabel('error / kcal/mol')\n",
    "plt.show()"
   ]
  },
  {
   "cell_type": "code",
   "execution_count": null,
   "metadata": {},
   "outputs": [],
   "source": []
  }
 ],
 "metadata": {
  "accelerator": "GPU",
  "colab": {
   "collapsed_sections": [],
   "name": "1c_analyse_dataset.ipynb",
   "provenance": []
  },
  "kernelspec": {
   "display_name": "Python 3",
   "name": "python3"
  }
 },
 "nbformat": 4,
 "nbformat_minor": 0
}
